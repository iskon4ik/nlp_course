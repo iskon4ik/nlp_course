{
 "cells": [
  {
   "cell_type": "markdown",
   "metadata": {},
   "source": [
    "# Large scale text analysis with deep learning (3 points)\n",
    "\n",
    "Today we're gonna apply the newly learned tools for the task of predicting job salary.\n",
    "\n",
    "<img src=\"https://storage.googleapis.com/kaggle-competitions/kaggle/3342/media/salary%20prediction%20engine%20v2.png\" width=400px>\n",
    "\n",
    "_Special thanks to [Oleg Vasilev](https://github.com/Omrigan/) for the core assignment idea._"
   ]
  },
  {
   "cell_type": "code",
   "execution_count": 2,
   "metadata": {
    "scrolled": true
   },
   "outputs": [
    {
     "name": "stdout",
     "output_type": "stream",
     "text": [
      "\u001b[33mDEPRECATION: Configuring installation scheme with distutils config files is deprecated and will no longer work in the near future. If you are using a Homebrew or Linuxbrew Python, please see discussion at https://github.com/Homebrew/homebrew-core/issues/76621\u001b[0m\u001b[33m\n",
      "\u001b[0mCollecting matplotlib\n",
      "  Downloading matplotlib-3.5.3-cp39-cp39-macosx_10_9_x86_64.whl (7.3 MB)\n",
      "\u001b[2K     \u001b[38;2;114;156;31m━━━━━━━━━━━━━━━━━━━━━━━━━━━━━━━━━━━━━━━━\u001b[0m \u001b[32m7.3/7.3 MB\u001b[0m \u001b[31m9.7 MB/s\u001b[0m eta \u001b[36m0:00:00\u001b[0m0m eta \u001b[36m0:00:01\u001b[0m[36m0:00:01\u001b[0m\n",
      "\u001b[?25hRequirement already satisfied: python-dateutil>=2.7 in /usr/local/lib/python3.9/site-packages (from matplotlib) (2.8.2)\n",
      "Collecting fonttools>=4.22.0\n",
      "  Downloading fonttools-4.37.1-py3-none-any.whl (957 kB)\n",
      "\u001b[2K     \u001b[38;2;114;156;31m━━━━━━━━━━━━━━━━━━━━━━━━━━━━━━━━━━━━━━━\u001b[0m \u001b[32m957.2/957.2 kB\u001b[0m \u001b[31m7.2 MB/s\u001b[0m eta \u001b[36m0:00:00\u001b[0mm eta \u001b[36m0:00:01\u001b[0m0:01\u001b[0m\n",
      "\u001b[?25hCollecting kiwisolver>=1.0.1\n",
      "  Downloading kiwisolver-1.4.4-cp39-cp39-macosx_10_9_x86_64.whl (65 kB)\n",
      "\u001b[2K     \u001b[38;2;114;156;31m━━━━━━━━━━━━━━━━━━━━━━━━━━━━━━━━━━━━━━━━\u001b[0m \u001b[32m65.5/65.5 kB\u001b[0m \u001b[31m2.2 MB/s\u001b[0m eta \u001b[36m0:00:00\u001b[0m\n",
      "\u001b[?25hRequirement already satisfied: packaging>=20.0 in /usr/local/lib/python3.9/site-packages (from matplotlib) (21.3)\n",
      "Collecting cycler>=0.10\n",
      "  Using cached cycler-0.11.0-py3-none-any.whl (6.4 kB)\n",
      "Requirement already satisfied: numpy>=1.17 in /usr/local/lib/python3.9/site-packages (from matplotlib) (1.22.3)\n",
      "Requirement already satisfied: pyparsing>=2.2.1 in /usr/local/lib/python3.9/site-packages (from matplotlib) (3.0.7)\n",
      "Requirement already satisfied: pillow>=6.2.0 in /usr/local/lib/python3.9/site-packages (from matplotlib) (9.2.0)\n",
      "Requirement already satisfied: six>=1.5 in /usr/local/lib/python3.9/site-packages (from python-dateutil>=2.7->matplotlib) (1.16.0)\n",
      "Installing collected packages: kiwisolver, fonttools, cycler, matplotlib\n",
      "\u001b[33m  DEPRECATION: Configuring installation scheme with distutils config files is deprecated and will no longer work in the near future. If you are using a Homebrew or Linuxbrew Python, please see discussion at https://github.com/Homebrew/homebrew-core/issues/76621\u001b[0m\u001b[33m\n",
      "\u001b[0m\u001b[33m  DEPRECATION: Configuring installation scheme with distutils config files is deprecated and will no longer work in the near future. If you are using a Homebrew or Linuxbrew Python, please see discussion at https://github.com/Homebrew/homebrew-core/issues/76621\u001b[0m\u001b[33m\n",
      "\u001b[0m\u001b[33m  DEPRECATION: Configuring installation scheme with distutils config files is deprecated and will no longer work in the near future. If you are using a Homebrew or Linuxbrew Python, please see discussion at https://github.com/Homebrew/homebrew-core/issues/76621\u001b[0m\u001b[33m\n",
      "\u001b[0m\u001b[33m  DEPRECATION: Configuring installation scheme with distutils config files is deprecated and will no longer work in the near future. If you are using a Homebrew or Linuxbrew Python, please see discussion at https://github.com/Homebrew/homebrew-core/issues/76621\u001b[0m\u001b[33m\n",
      "\u001b[0m\u001b[33mDEPRECATION: Configuring installation scheme with distutils config files is deprecated and will no longer work in the near future. If you are using a Homebrew or Linuxbrew Python, please see discussion at https://github.com/Homebrew/homebrew-core/issues/76621\u001b[0m\u001b[33m\n",
      "\u001b[0mSuccessfully installed cycler-0.11.0 fonttools-4.37.1 kiwisolver-1.4.4 matplotlib-3.5.3\n"
     ]
    }
   ],
   "source": [
    "# ! pip install matplotlib"
   ]
  },
  {
   "cell_type": "code",
   "execution_count": 1,
   "metadata": {},
   "outputs": [],
   "source": [
    "import numpy as np\n",
    "import pandas as pd\n",
    "import matplotlib.pyplot as plt\n",
    "%matplotlib inline"
   ]
  },
  {
   "cell_type": "markdown",
   "metadata": {},
   "source": [
    "### About the challenge\n",
    "For starters, let's download and unpack the data from [here]. \n",
    "\n",
    "You can also get it from [yadisk url](https://yadi.sk/d/vVEOWPFY3NruT7) the competition [page](https://www.kaggle.com/c/job-salary-prediction/data) (pick `Train_rev1.*`)."
   ]
  },
  {
   "cell_type": "code",
   "execution_count": 47,
   "metadata": {},
   "outputs": [
    {
     "data": {
      "text/plain": [
       "(244768, 12)"
      ]
     },
     "execution_count": 47,
     "metadata": {},
     "output_type": "execute_result"
    }
   ],
   "source": [
    "# !wget https://ysda-seminars.s3.eu-central-1.amazonaws.com/Train_rev1.zip\n",
    "# !unzip Train_rev1.zip\n",
    "data = pd.read_csv(\"./Train_rev1.csv\", index_col=None)\n",
    "data.shape"
   ]
  },
  {
   "cell_type": "code",
   "execution_count": 48,
   "metadata": {},
   "outputs": [
    {
     "data": {
      "text/html": [
       "<div>\n",
       "<style scoped>\n",
       "    .dataframe tbody tr th:only-of-type {\n",
       "        vertical-align: middle;\n",
       "    }\n",
       "\n",
       "    .dataframe tbody tr th {\n",
       "        vertical-align: top;\n",
       "    }\n",
       "\n",
       "    .dataframe thead th {\n",
       "        text-align: right;\n",
       "    }\n",
       "</style>\n",
       "<table border=\"1\" class=\"dataframe\">\n",
       "  <thead>\n",
       "    <tr style=\"text-align: right;\">\n",
       "      <th></th>\n",
       "      <th>Id</th>\n",
       "      <th>Title</th>\n",
       "      <th>FullDescription</th>\n",
       "      <th>LocationRaw</th>\n",
       "      <th>LocationNormalized</th>\n",
       "      <th>ContractType</th>\n",
       "      <th>ContractTime</th>\n",
       "      <th>Company</th>\n",
       "      <th>Category</th>\n",
       "      <th>SalaryRaw</th>\n",
       "      <th>SalaryNormalized</th>\n",
       "      <th>SourceName</th>\n",
       "    </tr>\n",
       "  </thead>\n",
       "  <tbody>\n",
       "    <tr>\n",
       "      <th>0</th>\n",
       "      <td>12612628</td>\n",
       "      <td>Engineering Systems Analyst</td>\n",
       "      <td>Engineering Systems Analyst Dorking Surrey Sal...</td>\n",
       "      <td>Dorking, Surrey, Surrey</td>\n",
       "      <td>Dorking</td>\n",
       "      <td>NaN</td>\n",
       "      <td>permanent</td>\n",
       "      <td>Gregory Martin International</td>\n",
       "      <td>Engineering Jobs</td>\n",
       "      <td>20000 - 30000/annum 20-30K</td>\n",
       "      <td>25000</td>\n",
       "      <td>cv-library.co.uk</td>\n",
       "    </tr>\n",
       "    <tr>\n",
       "      <th>1</th>\n",
       "      <td>12612830</td>\n",
       "      <td>Stress Engineer Glasgow</td>\n",
       "      <td>Stress Engineer Glasgow Salary **** to **** We...</td>\n",
       "      <td>Glasgow, Scotland, Scotland</td>\n",
       "      <td>Glasgow</td>\n",
       "      <td>NaN</td>\n",
       "      <td>permanent</td>\n",
       "      <td>Gregory Martin International</td>\n",
       "      <td>Engineering Jobs</td>\n",
       "      <td>25000 - 35000/annum 25-35K</td>\n",
       "      <td>30000</td>\n",
       "      <td>cv-library.co.uk</td>\n",
       "    </tr>\n",
       "    <tr>\n",
       "      <th>2</th>\n",
       "      <td>12612844</td>\n",
       "      <td>Modelling and simulation analyst</td>\n",
       "      <td>Mathematical Modeller / Simulation Analyst / O...</td>\n",
       "      <td>Hampshire, South East, South East</td>\n",
       "      <td>Hampshire</td>\n",
       "      <td>NaN</td>\n",
       "      <td>permanent</td>\n",
       "      <td>Gregory Martin International</td>\n",
       "      <td>Engineering Jobs</td>\n",
       "      <td>20000 - 40000/annum 20-40K</td>\n",
       "      <td>30000</td>\n",
       "      <td>cv-library.co.uk</td>\n",
       "    </tr>\n",
       "    <tr>\n",
       "      <th>3</th>\n",
       "      <td>12613049</td>\n",
       "      <td>Engineering Systems Analyst / Mathematical Mod...</td>\n",
       "      <td>Engineering Systems Analyst / Mathematical Mod...</td>\n",
       "      <td>Surrey, South East, South East</td>\n",
       "      <td>Surrey</td>\n",
       "      <td>NaN</td>\n",
       "      <td>permanent</td>\n",
       "      <td>Gregory Martin International</td>\n",
       "      <td>Engineering Jobs</td>\n",
       "      <td>25000 - 30000/annum 25K-30K negotiable</td>\n",
       "      <td>27500</td>\n",
       "      <td>cv-library.co.uk</td>\n",
       "    </tr>\n",
       "    <tr>\n",
       "      <th>4</th>\n",
       "      <td>12613647</td>\n",
       "      <td>Pioneer, Miser Engineering Systems Analyst</td>\n",
       "      <td>Pioneer, Miser  Engineering Systems Analyst Do...</td>\n",
       "      <td>Surrey, South East, South East</td>\n",
       "      <td>Surrey</td>\n",
       "      <td>NaN</td>\n",
       "      <td>permanent</td>\n",
       "      <td>Gregory Martin International</td>\n",
       "      <td>Engineering Jobs</td>\n",
       "      <td>20000 - 30000/annum 20-30K</td>\n",
       "      <td>25000</td>\n",
       "      <td>cv-library.co.uk</td>\n",
       "    </tr>\n",
       "  </tbody>\n",
       "</table>\n",
       "</div>"
      ],
      "text/plain": [
       "         Id                                              Title  \\\n",
       "0  12612628                        Engineering Systems Analyst   \n",
       "1  12612830                            Stress Engineer Glasgow   \n",
       "2  12612844                   Modelling and simulation analyst   \n",
       "3  12613049  Engineering Systems Analyst / Mathematical Mod...   \n",
       "4  12613647         Pioneer, Miser Engineering Systems Analyst   \n",
       "\n",
       "                                     FullDescription  \\\n",
       "0  Engineering Systems Analyst Dorking Surrey Sal...   \n",
       "1  Stress Engineer Glasgow Salary **** to **** We...   \n",
       "2  Mathematical Modeller / Simulation Analyst / O...   \n",
       "3  Engineering Systems Analyst / Mathematical Mod...   \n",
       "4  Pioneer, Miser  Engineering Systems Analyst Do...   \n",
       "\n",
       "                         LocationRaw LocationNormalized ContractType  \\\n",
       "0            Dorking, Surrey, Surrey            Dorking          NaN   \n",
       "1        Glasgow, Scotland, Scotland            Glasgow          NaN   \n",
       "2  Hampshire, South East, South East          Hampshire          NaN   \n",
       "3     Surrey, South East, South East             Surrey          NaN   \n",
       "4     Surrey, South East, South East             Surrey          NaN   \n",
       "\n",
       "  ContractTime                       Company          Category  \\\n",
       "0    permanent  Gregory Martin International  Engineering Jobs   \n",
       "1    permanent  Gregory Martin International  Engineering Jobs   \n",
       "2    permanent  Gregory Martin International  Engineering Jobs   \n",
       "3    permanent  Gregory Martin International  Engineering Jobs   \n",
       "4    permanent  Gregory Martin International  Engineering Jobs   \n",
       "\n",
       "                                SalaryRaw  SalaryNormalized        SourceName  \n",
       "0              20000 - 30000/annum 20-30K             25000  cv-library.co.uk  \n",
       "1              25000 - 35000/annum 25-35K             30000  cv-library.co.uk  \n",
       "2              20000 - 40000/annum 20-40K             30000  cv-library.co.uk  \n",
       "3  25000 - 30000/annum 25K-30K negotiable             27500  cv-library.co.uk  \n",
       "4              20000 - 30000/annum 20-30K             25000  cv-library.co.uk  "
      ]
     },
     "execution_count": 48,
     "metadata": {},
     "output_type": "execute_result"
    }
   ],
   "source": [
    "data.head()"
   ]
  },
  {
   "cell_type": "markdown",
   "metadata": {},
   "source": [
    "One problem with salary prediction is that it's oddly distributed: there are many people who are paid standard salaries and a few that get tons o money. The distribution is fat-tailed on the right side, which is inconvenient for MSE minimization.\n",
    "\n",
    "There are several techniques to combat this: using a different loss function, predicting log-target instead of raw target or even replacing targets with their percentiles among all salaries in the training set. We gonna use logarithm for now.\n",
    "\n",
    "_You can read more [in the official description](https://www.kaggle.com/c/job-salary-prediction#description)._"
   ]
  },
  {
   "cell_type": "code",
   "execution_count": 49,
   "metadata": {},
   "outputs": [
    {
     "data": {
      "image/png": "[encoded data removed]",
      "text/plain": [
       "<Figure size 576x288 with 2 Axes>"
      ]
     },
     "metadata": {
      "needs_background": "light"
     },
     "output_type": "display_data"
    }
   ],
   "source": [
    "data['Log1pSalary'] = np.log1p(data['SalaryNormalized']).astype('float32')\n",
    "\n",
    "plt.figure(figsize=[8, 4])\n",
    "plt.subplot(1, 2, 1)\n",
    "plt.hist(data[\"SalaryNormalized\"], bins=20);\n",
    "\n",
    "plt.subplot(1, 2, 2)\n",
    "plt.hist(data['Log1pSalary'], bins=20);"
   ]
  },
  {
   "cell_type": "markdown",
   "metadata": {},
   "source": [
    "Our task is to predict one number, __Log1pSalary__.\n",
    "\n",
    "To do so, our model can access a number of features:\n",
    "* Free text: __`Title`__ and  __`FullDescription`__\n",
    "* Categorical: __`Category`__, __`Company`__, __`LocationNormalized`__, __`ContractType`__, and __`ContractTime`__."
   ]
  },
  {
   "cell_type": "code",
   "execution_count": 50,
   "metadata": {},
   "outputs": [
    {
     "data": {
      "text/html": [
       "<div>\n",
       "<style scoped>\n",
       "    .dataframe tbody tr th:only-of-type {\n",
       "        vertical-align: middle;\n",
       "    }\n",
       "\n",
       "    .dataframe tbody tr th {\n",
       "        vertical-align: top;\n",
       "    }\n",
       "\n",
       "    .dataframe thead th {\n",
       "        text-align: right;\n",
       "    }\n",
       "</style>\n",
       "<table border=\"1\" class=\"dataframe\">\n",
       "  <thead>\n",
       "    <tr style=\"text-align: right;\">\n",
       "      <th></th>\n",
       "      <th>Id</th>\n",
       "      <th>Title</th>\n",
       "      <th>FullDescription</th>\n",
       "      <th>LocationRaw</th>\n",
       "      <th>LocationNormalized</th>\n",
       "      <th>ContractType</th>\n",
       "      <th>ContractTime</th>\n",
       "      <th>Company</th>\n",
       "      <th>Category</th>\n",
       "      <th>SalaryRaw</th>\n",
       "      <th>SalaryNormalized</th>\n",
       "      <th>SourceName</th>\n",
       "      <th>Log1pSalary</th>\n",
       "    </tr>\n",
       "  </thead>\n",
       "  <tbody>\n",
       "    <tr>\n",
       "      <th>179539</th>\n",
       "      <td>71564732</td>\n",
       "      <td>SITS Developer</td>\n",
       "      <td>Premier Group is currently recruiting for a SI...</td>\n",
       "      <td>London South East</td>\n",
       "      <td>South East London</td>\n",
       "      <td>NaN</td>\n",
       "      <td>contract</td>\n",
       "      <td>Premier Group Recruitment</td>\n",
       "      <td>IT Jobs</td>\n",
       "      <td>250.00 - 250.00 per day</td>\n",
       "      <td>60000</td>\n",
       "      <td>cwjobs.co.uk</td>\n",
       "      <td>11.002116</td>\n",
       "    </tr>\n",
       "    <tr>\n",
       "      <th>2764</th>\n",
       "      <td>55720863</td>\n",
       "      <td>Dental Nurse</td>\n",
       "      <td>Dual Site Dental Nurse, Maidenhead/High Wycomb...</td>\n",
       "      <td>Maidenhead, Berkshire</td>\n",
       "      <td>UK</td>\n",
       "      <td>NaN</td>\n",
       "      <td>NaN</td>\n",
       "      <td>NaN</td>\n",
       "      <td>Healthcare &amp; Nursing Jobs</td>\n",
       "      <td>14400 to 17600 per year</td>\n",
       "      <td>16000</td>\n",
       "      <td>careworx.co.uk</td>\n",
       "      <td>9.680407</td>\n",
       "    </tr>\n",
       "    <tr>\n",
       "      <th>128998</th>\n",
       "      <td>70140463</td>\n",
       "      <td>Network Operations Engineer  DWDM  CWDM  SDH  PDH</td>\n",
       "      <td>Network Operations Engineer  DWDM  CWDM  SDH  ...</td>\n",
       "      <td>St Albans Hertfordshire East</td>\n",
       "      <td>UK</td>\n",
       "      <td>NaN</td>\n",
       "      <td>permanent</td>\n",
       "      <td>NaN</td>\n",
       "      <td>IT Jobs</td>\n",
       "      <td>35000</td>\n",
       "      <td>35000</td>\n",
       "      <td>technojobs.co.uk</td>\n",
       "      <td>10.463132</td>\n",
       "    </tr>\n",
       "  </tbody>\n",
       "</table>\n",
       "</div>"
      ],
      "text/plain": [
       "              Id                                              Title  \\\n",
       "179539  71564732                                     SITS Developer   \n",
       "2764    55720863                                       Dental Nurse   \n",
       "128998  70140463  Network Operations Engineer  DWDM  CWDM  SDH  PDH   \n",
       "\n",
       "                                          FullDescription  \\\n",
       "179539  Premier Group is currently recruiting for a SI...   \n",
       "2764    Dual Site Dental Nurse, Maidenhead/High Wycomb...   \n",
       "128998  Network Operations Engineer  DWDM  CWDM  SDH  ...   \n",
       "\n",
       "                         LocationRaw LocationNormalized ContractType  \\\n",
       "179539             London South East  South East London          NaN   \n",
       "2764           Maidenhead, Berkshire                 UK          NaN   \n",
       "128998  St Albans Hertfordshire East                 UK          NaN   \n",
       "\n",
       "       ContractTime                    Company                   Category  \\\n",
       "179539     contract  Premier Group Recruitment                    IT Jobs   \n",
       "2764            NaN                        NaN  Healthcare & Nursing Jobs   \n",
       "128998    permanent                        NaN                    IT Jobs   \n",
       "\n",
       "                      SalaryRaw  SalaryNormalized        SourceName  \\\n",
       "179539  250.00 - 250.00 per day             60000      cwjobs.co.uk   \n",
       "2764    14400 to 17600 per year             16000    careworx.co.uk   \n",
       "128998                    35000             35000  technojobs.co.uk   \n",
       "\n",
       "        Log1pSalary  \n",
       "179539    11.002116  \n",
       "2764       9.680407  \n",
       "128998    10.463132  "
      ]
     },
     "execution_count": 50,
     "metadata": {},
     "output_type": "execute_result"
    }
   ],
   "source": [
    "text_columns = [\"Title\", \"FullDescription\"]\n",
    "categorical_columns = [\"Category\", \"Company\", \"LocationNormalized\", \"ContractType\", \"ContractTime\"]\n",
    "TARGET_COLUMN = \"Log1pSalary\"\n",
    "\n",
    "data[categorical_columns] = data[categorical_columns].fillna('NaN') # cast missing values to string \"NaN\"\n",
    "\n",
    "data.sample(3)"
   ]
  },
  {
   "cell_type": "markdown",
   "metadata": {},
   "source": [
    "### Preprocessing text data\n",
    "\n",
    "Just like last week, applying NLP to a problem begins from tokenization: splitting raw text into sequences of tokens (words, punctuation, etc).\n",
    "\n",
    "__Your task__ is to lowercase and tokenize all texts under `Title` and `FullDescription` columns. Store the tokenized data as a __space-separated__ string of tokens for performance reasons.\n",
    "\n",
    "It's okay to use nltk tokenizers. Assertions were designed for WordPunctTokenizer, slight deviations are okay."
   ]
  },
  {
   "cell_type": "code",
   "execution_count": 51,
   "metadata": {
    "scrolled": true
   },
   "outputs": [
    {
     "name": "stdout",
     "output_type": "stream",
     "text": [
      "Raw text:\n",
      "2         Mathematical Modeller / Simulation Analyst / O...\n",
      "100002    A successful and high achieving specialist sch...\n",
      "200002    Web Designer  HTML, CSS, JavaScript, Photoshop...\n",
      "Name: FullDescription, dtype: object\n"
     ]
    }
   ],
   "source": [
    "print(\"Raw text:\")\n",
    "print(data[\"FullDescription\"][2::100000])"
   ]
  },
  {
   "cell_type": "code",
   "execution_count": 52,
   "metadata": {},
   "outputs": [],
   "source": [
    "import nltk\n",
    "#TODO YOUR CODE HERE\n",
    "\n",
    "tokenizer = nltk.tokenize.WordPunctTokenizer()\n",
    "data[\"FullDescription\"] = data[\"FullDescription\"].apply(lambda x: \" \".join(tokenizer.tokenize(x.lower())))\n",
    "data[\"Title\"] = data[\"Title\"].apply(lambda x: \" \".join(tokenizer.tokenize(str(x).lower())))\n",
    "# YOUR CODE HERE"
   ]
  },
  {
   "cell_type": "markdown",
   "metadata": {},
   "source": [
    "Now we can assume that our text is a space-separated list of tokens:"
   ]
  },
  {
   "cell_type": "code",
   "execution_count": 53,
   "metadata": {},
   "outputs": [
    {
     "name": "stdout",
     "output_type": "stream",
     "text": [
      "Tokenized:\n",
      "2         mathematical modeller / simulation analyst / o...\n",
      "100002    a successful and high achieving specialist sch...\n",
      "200002    web designer html , css , javascript , photosh...\n",
      "Name: FullDescription, dtype: object\n"
     ]
    }
   ],
   "source": [
    "print(\"Tokenized:\")\n",
    "print(data[\"FullDescription\"][2::100000])\n",
    "assert data[\"FullDescription\"][2][:50] == 'mathematical modeller / simulation analyst / opera'\n",
    "assert data[\"Title\"][54321] == 'international digital account manager ( german )'"
   ]
  },
  {
   "cell_type": "markdown",
   "metadata": {},
   "source": [
    "Not all words are equally useful. Some of them are typos or rare words that are only present a few times. \n",
    "\n",
    "Let's count how many times is each word present in the data so that we can build a \"white list\" of known words."
   ]
  },
  {
   "cell_type": "code",
   "execution_count": 54,
   "metadata": {},
   "outputs": [],
   "source": [
    "from collections import Counter\n",
    "token_counts = Counter()\n",
    "\n",
    "for row in data.FullDescription.values:\n",
    "    token_counts.update(row.split())\n",
    "\n",
    "for row in data.Title.values:\n",
    "    token_counts.update(row.split())\n",
    "# Count how many times does each token occur in both \"Title\" and \"FullDescription\" in total\n",
    "#TODO <YOUR CODE>"
   ]
  },
  {
   "cell_type": "code",
   "execution_count": 55,
   "metadata": {},
   "outputs": [
    {
     "name": "stdout",
     "output_type": "stream",
     "text": [
      "Total unique tokens : 202704\n",
      "('and', 2657388)\n",
      "('.', 2523216)\n",
      "(',', 2318606)\n",
      "('the', 2080994)\n",
      "('to', 2019884)\n",
      "...\n",
      "('improvemen', 1)\n",
      "('techniciancivil', 1)\n",
      "('mlnlycke', 1)\n",
      "Correct!\n"
     ]
    }
   ],
   "source": [
    "print(\"Total unique tokens :\", len(token_counts))\n",
    "print('\\n'.join(map(str, token_counts.most_common(n=5))))\n",
    "print('...')\n",
    "print('\\n'.join(map(str, token_counts.most_common()[-3:])))\n",
    "\n",
    "assert token_counts.most_common(1)[0][1] in  range(2600000, 2700000)\n",
    "assert len(token_counts) in range(200000, 210000)\n",
    "print('Correct!')"
   ]
  },
  {
   "cell_type": "code",
   "execution_count": 56,
   "metadata": {},
   "outputs": [
    {
     "data": {
      "image/png": "[encoded data removed]",
      "text/plain": [
       "<Figure size 432x288 with 1 Axes>"
      ]
     },
     "metadata": {
      "needs_background": "light"
     },
     "output_type": "display_data"
    }
   ],
   "source": [
    "# Let's see how many words are there for each count\n",
    "plt.hist(list(token_counts.values()), range=[0, 10**4], bins=50, log=True)\n",
    "plt.xlabel(\"Word counts\");"
   ]
  },
  {
   "cell_type": "markdown",
   "metadata": {},
   "source": [
    "__Task 1.1__ Get a list of all tokens that occur at least 10 times."
   ]
  },
  {
   "cell_type": "code",
   "execution_count": 57,
   "metadata": {},
   "outputs": [],
   "source": [
    "min_count = 10\n",
    "\n",
    "# tokens from token_counts keys that had at least min_count occurrences throughout the dataset\n",
    "tokens = sorted(t for t, c in token_counts.items() if c >= min_count)#TODO<YOUR CODE HERE>\n",
    "\n",
    "# Add a special tokens for unknown and empty words\n",
    "UNK, PAD = \"UNK\", \"PAD\"\n",
    "tokens = [UNK, PAD] + tokens"
   ]
  },
  {
   "cell_type": "code",
   "execution_count": 58,
   "metadata": {},
   "outputs": [
    {
     "name": "stdout",
     "output_type": "stream",
     "text": [
      "Vocabulary size: 34158\n",
      "Correct!\n"
     ]
    }
   ],
   "source": [
    "print(\"Vocabulary size:\", len(tokens))\n",
    "assert type(tokens) == list\n",
    "assert len(tokens) in range(32000, 35000)\n",
    "assert 'me' in tokens\n",
    "assert UNK in tokens\n",
    "print(\"Correct!\")"
   ]
  },
  {
   "cell_type": "markdown",
   "metadata": {},
   "source": [
    "__Task 1.2__ Build an inverse token index: a dictionary from token(string) to it's index in `tokens` (int)"
   ]
  },
  {
   "cell_type": "code",
   "execution_count": 59,
   "metadata": {},
   "outputs": [],
   "source": [
    "token_to_id = {tok: i for i, tok in enumerate(tokens)}\n",
    "#<your code here - dict of token name to its index in tokens>"
   ]
  },
  {
   "cell_type": "code",
   "execution_count": 60,
   "metadata": {},
   "outputs": [
    {
     "name": "stdout",
     "output_type": "stream",
     "text": [
      "Correct!\n"
     ]
    }
   ],
   "source": [
    "assert isinstance(token_to_id, dict)\n",
    "assert len(token_to_id) == len(tokens)\n",
    "for tok in tokens:\n",
    "    assert tokens[token_to_id[tok]] == tok\n",
    "\n",
    "print(\"Correct!\")"
   ]
  },
  {
   "cell_type": "markdown",
   "metadata": {},
   "source": [
    "And finally, let's use the vocabulary you've built to map text lines into neural network-digestible matrices."
   ]
  },
  {
   "cell_type": "code",
   "execution_count": 61,
   "metadata": {},
   "outputs": [],
   "source": [
    "UNK_IX, PAD_IX = map(token_to_id.get, [UNK, PAD])\n",
    "\n",
    "def as_matrix(sequences, max_len=None):\n",
    "    \"\"\" Convert a list of tokens into a matrix with padding \"\"\"\n",
    "    if isinstance(sequences[0], str):\n",
    "        sequences = list(map(str.split, sequences))\n",
    "        \n",
    "    max_len = min(max(map(len, sequences)), max_len or float('inf'))\n",
    "    \n",
    "    matrix = np.full((len(sequences), max_len), np.int32(PAD_IX))\n",
    "    for i,seq in enumerate(sequences):\n",
    "        row_ix = [token_to_id.get(word, UNK_IX) for word in seq[:max_len]]\n",
    "        matrix[i, :len(row_ix)] = row_ix\n",
    "    \n",
    "    return matrix"
   ]
  },
  {
   "cell_type": "code",
   "execution_count": 62,
   "metadata": {},
   "outputs": [
    {
     "name": "stdout",
     "output_type": "stream",
     "text": [
      "Lines:\n",
      "engineering systems analyst\n",
      "hr assistant\n",
      "senior ec & i engineer\n",
      "\n",
      "Matrix:\n",
      "[[10807 30161  2166     1     1]\n",
      " [15020  2844     1     1     1]\n",
      " [27645 10201    16 15215 10804]]\n"
     ]
    }
   ],
   "source": [
    "print(\"Lines:\")\n",
    "print('\\n'.join(data[\"Title\"][::100000].values), end='\\n\\n')\n",
    "print(\"Matrix:\")\n",
    "print(as_matrix(data[\"Title\"][::100000]))"
   ]
  },
  {
   "cell_type": "markdown",
   "metadata": {},
   "source": [
    "Now let's  encode the categirical data we have.\n",
    "\n",
    "As usual, we shall use one-hot encoding for simplicity. Kudos if you implement more advanced encodings: tf-idf, pseudo-time-series, etc."
   ]
  },
  {
   "cell_type": "code",
   "execution_count": 63,
   "metadata": {},
   "outputs": [
    {
     "data": {
      "text/html": [
       "<style>#sk-container-id-2 {color: black;background-color: white;}#sk-container-id-2 pre{padding: 0;}#sk-container-id-2 div.sk-toggleable {background-color: white;}#sk-container-id-2 label.sk-toggleable__label {cursor: pointer;display: block;width: 100%;margin-bottom: 0;padding: 0.3em;box-sizing: border-box;text-align: center;}#sk-container-id-2 label.sk-toggleable__label-arrow:before {content: \"▸\";float: left;margin-right: 0.25em;color: #696969;}#sk-container-id-2 label.sk-toggleable__label-arrow:hover:before {color: black;}#sk-container-id-2 div.sk-estimator:hover label.sk-toggleable__label-arrow:before {color: black;}#sk-container-id-2 div.sk-toggleable__content {max-height: 0;max-width: 0;overflow: hidden;text-align: left;background-color: #f0f8ff;}#sk-container-id-2 div.sk-toggleable__content pre {margin: 0.2em;color: black;border-radius: 0.25em;background-color: #f0f8ff;}#sk-container-id-2 input.sk-toggleable__control:checked~div.sk-toggleable__content {max-height: 200px;max-width: 100%;overflow: auto;}#sk-container-id-2 input.sk-toggleable__control:checked~label.sk-toggleable__label-arrow:before {content: \"▾\";}#sk-container-id-2 div.sk-estimator input.sk-toggleable__control:checked~label.sk-toggleable__label {background-color: #d4ebff;}#sk-container-id-2 div.sk-label input.sk-toggleable__control:checked~label.sk-toggleable__label {background-color: #d4ebff;}#sk-container-id-2 input.sk-hidden--visually {border: 0;clip: rect(1px 1px 1px 1px);clip: rect(1px, 1px, 1px, 1px);height: 1px;margin: -1px;overflow: hidden;padding: 0;position: absolute;width: 1px;}#sk-container-id-2 div.sk-estimator {font-family: monospace;background-color: #f0f8ff;border: 1px dotted black;border-radius: 0.25em;box-sizing: border-box;margin-bottom: 0.5em;}#sk-container-id-2 div.sk-estimator:hover {background-color: #d4ebff;}#sk-container-id-2 div.sk-parallel-item::after {content: \"\";width: 100%;border-bottom: 1px solid gray;flex-grow: 1;}#sk-container-id-2 div.sk-label:hover label.sk-toggleable__label {background-color: #d4ebff;}#sk-container-id-2 div.sk-serial::before {content: \"\";position: absolute;border-left: 1px solid gray;box-sizing: border-box;top: 0;bottom: 0;left: 50%;z-index: 0;}#sk-container-id-2 div.sk-serial {display: flex;flex-direction: column;align-items: center;background-color: white;padding-right: 0.2em;padding-left: 0.2em;position: relative;}#sk-container-id-2 div.sk-item {position: relative;z-index: 1;}#sk-container-id-2 div.sk-parallel {display: flex;align-items: stretch;justify-content: center;background-color: white;position: relative;}#sk-container-id-2 div.sk-item::before, #sk-container-id-2 div.sk-parallel-item::before {content: \"\";position: absolute;border-left: 1px solid gray;box-sizing: border-box;top: 0;bottom: 0;left: 50%;z-index: -1;}#sk-container-id-2 div.sk-parallel-item {display: flex;flex-direction: column;z-index: 1;position: relative;background-color: white;}#sk-container-id-2 div.sk-parallel-item:first-child::after {align-self: flex-end;width: 50%;}#sk-container-id-2 div.sk-parallel-item:last-child::after {align-self: flex-start;width: 50%;}#sk-container-id-2 div.sk-parallel-item:only-child::after {width: 0;}#sk-container-id-2 div.sk-dashed-wrapped {border: 1px dashed gray;margin: 0 0.4em 0.5em 0.4em;box-sizing: border-box;padding-bottom: 0.4em;background-color: white;}#sk-container-id-2 div.sk-label label {font-family: monospace;font-weight: bold;display: inline-block;line-height: 1.2em;}#sk-container-id-2 div.sk-label-container {text-align: center;}#sk-container-id-2 div.sk-container {/* jupyter's `normalize.less` sets `[hidden] { display: none; }` but bootstrap.min.css set `[hidden] { display: none !important; }` so we also need the `!important` here to be able to override the default hidden behavior on the sphinx rendered scikit-learn.org. See: https://github.com/scikit-learn/scikit-learn/issues/21755 */display: inline-block !important;position: relative;}#sk-container-id-2 div.sk-text-repr-fallback {display: none;}</style><div id=\"sk-container-id-2\" class=\"sk-top-container\"><div class=\"sk-text-repr-fallback\"><pre>DictVectorizer(dtype=&lt;class &#x27;numpy.float32&#x27;&gt;, sparse=False)</pre><b>In a Jupyter environment, please rerun this cell to show the HTML representation or trust the notebook. <br />On GitHub, the HTML representation is unable to render, please try loading this page with nbviewer.org.</b></div><div class=\"sk-container\" hidden><div class=\"sk-item\"><div class=\"sk-estimator sk-toggleable\"><input class=\"sk-toggleable__control sk-hidden--visually\" id=\"sk-estimator-id-2\" type=\"checkbox\" checked><label for=\"sk-estimator-id-2\" class=\"sk-toggleable__label sk-toggleable__label-arrow\">DictVectorizer</label><div class=\"sk-toggleable__content\"><pre>DictVectorizer(dtype=&lt;class &#x27;numpy.float32&#x27;&gt;, sparse=False)</pre></div></div></div></div></div>"
      ],
      "text/plain": [
       "DictVectorizer(dtype=<class 'numpy.float32'>, sparse=False)"
      ]
     },
     "execution_count": 63,
     "metadata": {},
     "output_type": "execute_result"
    }
   ],
   "source": [
    "from sklearn.feature_extraction import DictVectorizer\n",
    "\n",
    "# we only consider top-1k most frequent companies to minimize memory usage\n",
    "top_companies, top_counts = zip(*Counter(data['Company']).most_common(1000))\n",
    "recognized_companies = set(top_companies)\n",
    "data[\"Company\"] = data[\"Company\"].apply(lambda comp: comp if comp in recognized_companies else \"Other\")\n",
    "\n",
    "categorical_vectorizer = DictVectorizer(dtype=np.float32, sparse=False)\n",
    "categorical_vectorizer.fit(data[categorical_columns].apply(dict, axis=1))"
   ]
  },
  {
   "cell_type": "markdown",
   "metadata": {},
   "source": [
    "### The deep learning part\n",
    "\n",
    "Once we've learned to tokenize the data, let's design a machine learning experiment.\n",
    "\n",
    "As before, we won't focus too much on validation, opting for a simple train-test split.\n",
    "\n",
    "__To be completely rigorous,__ we've comitted a small crime here: we used the whole data for tokenization and vocabulary building. A more strict way would be to do that part on training set only. You may want to do that and measure the magnitude of changes."
   ]
  },
  {
   "cell_type": "code",
   "execution_count": 64,
   "metadata": {},
   "outputs": [
    {
     "name": "stdout",
     "output_type": "stream",
     "text": [
      "Train size =  195814\n",
      "Validation size =  48954\n"
     ]
    }
   ],
   "source": [
    "from sklearn.model_selection import train_test_split\n",
    "\n",
    "data_train, data_val = train_test_split(data, test_size=0.2, random_state=42)\n",
    "data_train.index = range(len(data_train))\n",
    "data_val.index = range(len(data_val))\n",
    "\n",
    "print(\"Train size = \", len(data_train))\n",
    "print(\"Validation size = \", len(data_val))"
   ]
  },
  {
   "cell_type": "code",
   "execution_count": 45,
   "metadata": {},
   "outputs": [
    {
     "name": "stdout",
     "output_type": "stream",
     "text": [
      "\u001b[33mDEPRECATION: Configuring installation scheme with distutils config files is deprecated and will no longer work in the near future. If you are using a Homebrew or Linuxbrew Python, please see discussion at https://github.com/Homebrew/homebrew-core/issues/76621\u001b[0m\u001b[33m\n",
      "\u001b[0mCollecting torch\n",
      "  Downloading torch-1.12.1-cp39-none-macosx_10_9_x86_64.whl (133.8 MB)\n",
      "\u001b[2K     \u001b[38;2;114;156;31m━━━━━━━━━━━━━━━━━━━━━━━━━━━━━━━━━━━━━━━\u001b[0m \u001b[32m133.8/133.8 MB\u001b[0m \u001b[31m5.0 MB/s\u001b[0m eta \u001b[36m0:00:00\u001b[0mm eta \u001b[36m0:00:01\u001b[0m[36m0:00:01\u001b[0m\n",
      "\u001b[?25hRequirement already satisfied: typing-extensions in /usr/local/lib/python3.9/site-packages (from torch) (4.3.0)\n",
      "Installing collected packages: torch\n",
      "\u001b[33m  DEPRECATION: Configuring installation scheme with distutils config files is deprecated and will no longer work in the near future. If you are using a Homebrew or Linuxbrew Python, please see discussion at https://github.com/Homebrew/homebrew-core/issues/76621\u001b[0m\u001b[33m\n",
      "\u001b[0m\u001b[33mDEPRECATION: Configuring installation scheme with distutils config files is deprecated and will no longer work in the near future. If you are using a Homebrew or Linuxbrew Python, please see discussion at https://github.com/Homebrew/homebrew-core/issues/76621\u001b[0m\u001b[33m\n",
      "\u001b[0mSuccessfully installed torch-1.12.1\n"
     ]
    }
   ],
   "source": [
    "# ! pip install torch"
   ]
  },
  {
   "cell_type": "code",
   "execution_count": 65,
   "metadata": {},
   "outputs": [],
   "source": [
    "target_column = \"Log1pSalary\""
   ]
  },
  {
   "cell_type": "code",
   "execution_count": 66,
   "metadata": {},
   "outputs": [],
   "source": [
    "import torch\n",
    "\n",
    "def to_tensors(batch, device):\n",
    "    batch_tensors = dict()\n",
    "    for key, arr in batch.items():\n",
    "        if key in [\"FullDescription\", \"Title\"]:\n",
    "            batch_tensors[key] = torch.tensor(arr, device=device, dtype=torch.int64)\n",
    "        else:\n",
    "            batch_tensors[key] = torch.tensor(arr, device=device)\n",
    "    return batch_tensors\n",
    "\n",
    "def make_batch(data, max_len=None, word_dropout=0, device=torch.device('cpu')):\n",
    "    \"\"\"\n",
    "    Creates a keras-friendly dict from the batch data.\n",
    "    :param word_dropout: replaces token index with UNK_IX with this probability\n",
    "    :returns: a dict with {'title' : int64[batch, title_max_len]\n",
    "    \"\"\"\n",
    "    batch = {}\n",
    "    batch[\"Title\"] = as_matrix(data[\"Title\"].values, max_len)\n",
    "    batch[\"FullDescription\"] = as_matrix(data[\"FullDescription\"].values, max_len)\n",
    "    batch['Categorical'] = categorical_vectorizer.transform(data[categorical_columns].apply(dict, axis=1))\n",
    "    \n",
    "    if word_dropout != 0:\n",
    "        batch[\"FullDescription\"] = apply_word_dropout(batch[\"FullDescription\"], 1. - word_dropout)\n",
    "    \n",
    "    if TARGET_COLUMN in data.columns:\n",
    "        batch[target_column] = data[TARGET_COLUMN].values\n",
    "    \n",
    "    return to_tensors(batch, device)\n",
    "\n",
    "def apply_word_dropout(matrix, keep_prop, replace_with=UNK_IX, pad_ix=PAD_IX,):\n",
    "    dropout_mask = np.random.choice(2, np.shape(matrix), p=[keep_prop, 1 - keep_prop])\n",
    "    dropout_mask &= matrix != pad_ix\n",
    "    return np.choose(dropout_mask, [matrix, np.full_like(matrix, replace_with)])"
   ]
  },
  {
   "cell_type": "code",
   "execution_count": 67,
   "metadata": {
    "scrolled": true
   },
   "outputs": [
    {
     "data": {
      "text/plain": [
       "{'Title': tensor([[27645, 29893, 33674,     1,     1,     1,     1],\n",
       "         [29239,   197, 19175, 20042, 15554, 23162,  4051],\n",
       "         [10609, 30412, 17746,    33,  8705, 29157,    65]]),\n",
       " 'FullDescription': tensor([[27645, 29893, 33674, 32939,   982, 27645, 29893, 33674, 16451, 32939],\n",
       "         [29239,   197, 19175, 20042, 15554, 23162,  4051, 25511,   907,    82],\n",
       "         [30746, 21956, 20601,  6409, 16451,  8165, 27493,   982, 30412, 17746]]),\n",
       " 'Categorical': tensor([[0., 0., 0.,  ..., 0., 0., 0.],\n",
       "         [0., 0., 0.,  ..., 0., 0., 0.],\n",
       "         [0., 0., 0.,  ..., 0., 0., 0.]]),\n",
       " 'Log1pSalary': tensor([ 9.7115, 10.4631, 10.7144])}"
      ]
     },
     "execution_count": 67,
     "metadata": {},
     "output_type": "execute_result"
    }
   ],
   "source": [
    "make_batch(data_train[:3], max_len=10)"
   ]
  },
  {
   "cell_type": "markdown",
   "metadata": {},
   "source": [
    "#### Architecture\n",
    "\n",
    "Our basic model consists of three branches:\n",
    "* Title encoder\n",
    "* Description encoder\n",
    "* Categorical features encoder\n",
    "\n",
    "We will then feed all 3 branches into one common network that predicts salary.\n",
    "\n",
    "![scheme](https://github.com/yandexdataschool/nlp_course/raw/master/resources/w2_conv_arch.png)"
   ]
  },
  {
   "cell_type": "markdown",
   "metadata": {},
   "source": [
    "This clearly doesn't fit into keras' __Sequential__ interface. To build such a network, one will have to use PyTorch."
   ]
  },
  {
   "cell_type": "code",
   "execution_count": 68,
   "metadata": {},
   "outputs": [],
   "source": [
    "import torch\n",
    "import torch.nn as nn\n",
    "import torch.nn.functional as F"
   ]
  },
  {
   "cell_type": "code",
   "execution_count": 120,
   "metadata": {},
   "outputs": [],
   "source": [
    "class SalaryPredictor(nn.Module):\n",
    "    def __init__(self, n_tokens=len(tokens), n_cat_features=len(categorical_vectorizer.vocabulary_), hid_size=64):\n",
    "        super().__init__()\n",
    "        #  YOUR CODE HERE\n",
    "        self.n_tokens = n_tokens\n",
    "        self.n_cat_features = n_cat_features\n",
    "#         print(self.n_cat_features)\n",
    "        \n",
    "        self.title_emb = nn.Embedding(n_tokens, hid_size)\n",
    "        self.title_conv = nn.Conv1d(1, 4, 5)\n",
    "        self.title_pool = nn.MaxPool1d(3)\n",
    "        \n",
    "        self.descr_emb = nn.Embedding(n_tokens, hid_size)\n",
    "        self.descr_conv = nn.Conv1d(1, 4, 5)\n",
    "        self.descr_pool = nn.MaxPool1d(3)\n",
    "        \n",
    "        self.categories_linear = nn.Linear(n_cat_features, 20)\n",
    "        \n",
    "        self.title_linear = nn.Linear(20, 1)\n",
    "        self.final = nn.Linear(60, 1)\n",
    "        \n",
    "    def forward(self, batch):\n",
    "        # YOUR CODE HERE\n",
    "#         print(batch[\"Title\"].shape)\n",
    "        t1 = self.title_emb(batch[\"Title\"])\n",
    "        t1 = t1.mean(dim=1).unsqueeze(1)\n",
    "        t2 = self.title_conv(t1)\n",
    "        t2 = F.relu(t2)\n",
    "        t3 = self.title_pool(t2)\n",
    "        t3 = t3.mean(dim=1)\n",
    "        \n",
    "        d1 = self.descr_emb(batch[\"FullDescription\"]).mean(dim=1).unsqueeze(1)\n",
    "        d2 = F.relu(self.descr_conv(d1))\n",
    "        d3 = self.descr_pool(d2).mean(dim=1)\n",
    "        \n",
    "        c1 = self.categories_linear(batch[\"Categorical\"])\n",
    "        \n",
    "#         print(t3.shape, d3.shape, c1.shape)\n",
    "        out = self.final(torch.cat([t3, d3, c1], dim=1)).squeeze(1)\n",
    "        \n",
    "        \n",
    "#         out = self.title_linear(t3).squeeze(1)\n",
    "#         print(out.shape)\n",
    "        return out + 1e-9\n",
    "    \n",
    "    def predict(self, x):\n",
    "        return self.forward(x)"
   ]
  },
  {
   "cell_type": "code",
   "execution_count": 121,
   "metadata": {},
   "outputs": [],
   "source": [
    "model = SalaryPredictor()"
   ]
  },
  {
   "cell_type": "code",
   "execution_count": 122,
   "metadata": {},
   "outputs": [
    {
     "data": {
      "text/plain": [
       "torch.Size([100, 3768])"
      ]
     },
     "execution_count": 122,
     "metadata": {},
     "output_type": "execute_result"
    }
   ],
   "source": [
    "batch[\"Categorical\"].shape"
   ]
  },
  {
   "cell_type": "code",
   "execution_count": 131,
   "metadata": {},
   "outputs": [],
   "source": [
    "model = SalaryPredictor()\n",
    "batch = make_batch(data_train[:100])\n",
    "criterion = nn.MSELoss()\n",
    "\n",
    "dummy_pred = model(batch)\n",
    "dummy_loss = criterion(dummy_pred, batch[TARGET_COLUMN])\n",
    "assert dummy_pred.shape == torch.Size([100])\n",
    "assert len(torch.unique(dummy_pred)) > 20, \"model returns suspiciously few unique outputs. Check your initialization\"\n",
    "assert dummy_loss.ndim == 0 and 0. <= dummy_loss <= 250., \"make sure you minimize MSE\""
   ]
  },
  {
   "cell_type": "code",
   "execution_count": 132,
   "metadata": {},
   "outputs": [
    {
     "data": {
      "text/plain": [
       "tensor([-0.1944, -0.1187, -0.1113, -0.1181, -0.2249, -0.1543, -0.1302, -0.1219,\n",
       "        -0.1109, -0.1080, -0.1613, -0.2097, -0.2053, -0.1333, -0.1626, -0.2147,\n",
       "        -0.1036, -0.0872, -0.1267, -0.2154, -0.2189, -0.1878, -0.1433, -0.0485,\n",
       "        -0.1066, -0.2180, -0.1651, -0.1798, -0.1659, -0.2214, -0.2184, -0.1753,\n",
       "        -0.2034, -0.1928, -0.2078, -0.1786, -0.0448, -0.2177, -0.1393, -0.1419,\n",
       "        -0.2062, -0.2134, -0.2133, -0.2067, -0.1954, -0.1697, -0.2279, -0.1413,\n",
       "        -0.1969, -0.0610, -0.2275, -0.1543, -0.1081, -0.1057, -0.2276, -0.1334,\n",
       "        -0.2080, -0.1604, -0.1019, -0.1591, -0.1907, -0.2017, -0.1719, -0.2137,\n",
       "        -0.1716, -0.2311, -0.1264, -0.1742, -0.2015, -0.1966, -0.1916, -0.1754,\n",
       "        -0.1376, -0.1309, -0.0900, -0.1252, -0.1942, -0.2084, -0.2080, -0.1774,\n",
       "        -0.1870, -0.1208, -0.2311, -0.0727, -0.1224, -0.1955, -0.1941, -0.1055,\n",
       "        -0.1937, -0.1804, -0.1721, -0.1501, -0.1438, -0.2292, -0.1775, -0.1806,\n",
       "        -0.2248, -0.0984, -0.2031, -0.1713], grad_fn=<AddBackward0>)"
      ]
     },
     "execution_count": 132,
     "metadata": {},
     "output_type": "execute_result"
    }
   ],
   "source": [
    "dummy_pred"
   ]
  },
  {
   "cell_type": "markdown",
   "metadata": {},
   "source": [
    "#### Training and evaluation\n",
    "\n",
    "As usual, we gonna feed our monster with random minibatches of data. \n",
    "\n",
    "As we train, we want to monitor not only loss function, which is computed in log-space, but also the actual error measured in dollars."
   ]
  },
  {
   "cell_type": "code",
   "execution_count": 133,
   "metadata": {},
   "outputs": [],
   "source": [
    "def iterate_minibatches(data, batch_size=256, shuffle=True, cycle=False, device=torch.device('cpu'), **kwargs):\n",
    "    \"\"\" iterates minibatches of data in random order \"\"\"\n",
    "    while True:\n",
    "        indices = np.arange(len(data))\n",
    "        if shuffle:\n",
    "            indices = np.random.permutation(indices)\n",
    "\n",
    "        for start in range(0, len(indices), batch_size):\n",
    "            batch = make_batch(data.iloc[indices[start : start + batch_size]], **kwargs)\n",
    "            yield batch\n",
    "        \n",
    "        if not cycle: break"
   ]
  },
  {
   "cell_type": "markdown",
   "metadata": {},
   "source": [
    "### Model training\n",
    "\n",
    "We can now fit our model the usual minibatch way. The interesting part is that we train on an infinite stream of minibatches, produced by `iterate_minibatches` function."
   ]
  },
  {
   "cell_type": "code",
   "execution_count": 134,
   "metadata": {},
   "outputs": [],
   "source": [
    "import tqdm\n",
    "\n",
    "BATCH_SIZE = 32\n",
    "EPOCHS = 5\n",
    "DEVICE = torch.device('cpu')"
   ]
  },
  {
   "cell_type": "code",
   "execution_count": 135,
   "metadata": {},
   "outputs": [],
   "source": [
    "def print_metrics(model, data, batch_size=BATCH_SIZE, name=\"\", **kw):\n",
    "    squared_error = abs_error = num_samples = 0.0\n",
    "    model.eval()\n",
    "    with torch.no_grad():\n",
    "        for batch in iterate_minibatches(data, batch_size=batch_size, shuffle=False, **kw):\n",
    "            batch_pred = model(batch)\n",
    "            squared_error += torch.sum(torch.square(batch_pred - batch[TARGET_COLUMN]))\n",
    "            abs_error += torch.sum(torch.abs(batch_pred - batch[TARGET_COLUMN]))\n",
    "            num_samples += len(batch_pred)\n",
    "    mse = squared_error.detach().cpu().numpy() / num_samples\n",
    "    mae = abs_error.detach().cpu().numpy() / num_samples\n",
    "    print(\"%s results:\" % (name or \"\"))\n",
    "    print(\"Mean square error: %.5f\" % mse)\n",
    "    print(\"Mean absolute error: %.5f\" % mae)\n",
    "    return mse, mae\n"
   ]
  },
  {
   "cell_type": "code",
   "execution_count": 145,
   "metadata": {
    "scrolled": true
   },
   "outputs": [
    {
     "name": "stdout",
     "output_type": "stream",
     "text": [
      "\u001b[33mDEPRECATION: Configuring installation scheme with distutils config files is deprecated and will no longer work in the near future. If you are using a Homebrew or Linuxbrew Python, please see discussion at https://github.com/Homebrew/homebrew-core/issues/76621\u001b[0m\u001b[33m\n",
      "\u001b[0mCollecting ipywidgets\n",
      "  Downloading ipywidgets-8.0.1-py3-none-any.whl (133 kB)\n",
      "\u001b[2K     \u001b[38;2;114;156;31m━━━━━━━━━━━━━━━━━━━━━━━━━━━━━━━━━━━━━━━\u001b[0m \u001b[32m133.7/133.7 kB\u001b[0m \u001b[31m1.1 MB/s\u001b[0m eta \u001b[36m0:00:00\u001b[0mm eta \u001b[36m0:00:01\u001b[0m[36m0:00:01\u001b[0m\n",
      "\u001b[?25hCollecting jupyterlab-widgets~=3.0\n",
      "  Downloading jupyterlab_widgets-3.0.2-py3-none-any.whl (383 kB)\n",
      "\u001b[2K     \u001b[38;2;114;156;31m━━━━━━━━━━━━━━━━━━━━━━━━━━━━━━━━━━━━━━━\u001b[0m \u001b[32m384.0/384.0 kB\u001b[0m \u001b[31m3.3 MB/s\u001b[0m eta \u001b[36m0:00:00\u001b[0m[36m0:00:01\u001b[0m[36m0:00:01\u001b[0m:01\u001b[0m\n",
      "\u001b[?25hRequirement already satisfied: ipython>=6.1.0 in /usr/local/lib/python3.9/site-packages (from ipywidgets) (8.1.1)\n",
      "Requirement already satisfied: ipykernel>=4.5.1 in /usr/local/lib/python3.9/site-packages (from ipywidgets) (6.9.2)\n",
      "Collecting widgetsnbextension~=4.0\n",
      "  Downloading widgetsnbextension-4.0.2-py3-none-any.whl (2.0 MB)\n",
      "\u001b[2K     \u001b[38;2;114;156;31m━━━━━━━━━━━━━━━━━━━━━━━━━━━━━━━━━━━━━━━━\u001b[0m \u001b[32m2.0/2.0 MB\u001b[0m \u001b[31m13.1 MB/s\u001b[0m eta \u001b[36m0:00:00\u001b[0mm eta \u001b[36m0:00:01\u001b[0m[36m0:00:01\u001b[0m\n",
      "\u001b[?25hRequirement already satisfied: traitlets>=4.3.1 in /usr/local/lib/python3.9/site-packages (from ipywidgets) (5.1.1)\n",
      "Requirement already satisfied: debugpy<2.0,>=1.0.0 in /usr/local/lib/python3.9/site-packages (from ipykernel>=4.5.1->ipywidgets) (1.5.1)\n",
      "Requirement already satisfied: psutil in /usr/local/lib/python3.9/site-packages (from ipykernel>=4.5.1->ipywidgets) (5.9.0)\n",
      "Requirement already satisfied: tornado<7.0,>=4.2 in /usr/local/lib/python3.9/site-packages (from ipykernel>=4.5.1->ipywidgets) (6.1)\n",
      "Requirement already satisfied: nest-asyncio in /usr/local/lib/python3.9/site-packages (from ipykernel>=4.5.1->ipywidgets) (1.5.4)\n",
      "Requirement already satisfied: appnope in /usr/local/lib/python3.9/site-packages (from ipykernel>=4.5.1->ipywidgets) (0.1.2)\n",
      "Requirement already satisfied: jupyter-client<8.0 in /usr/local/lib/python3.9/site-packages (from ipykernel>=4.5.1->ipywidgets) (7.1.2)\n",
      "Requirement already satisfied: matplotlib-inline<0.2.0,>=0.1.0 in /usr/local/lib/python3.9/site-packages (from ipykernel>=4.5.1->ipywidgets) (0.1.3)\n",
      "Requirement already satisfied: stack-data in /usr/local/lib/python3.9/site-packages (from ipython>=6.1.0->ipywidgets) (0.2.0)\n",
      "Requirement already satisfied: pygments>=2.4.0 in /usr/local/lib/python3.9/site-packages (from ipython>=6.1.0->ipywidgets) (2.11.2)\n",
      "Requirement already satisfied: pickleshare in /usr/local/lib/python3.9/site-packages (from ipython>=6.1.0->ipywidgets) (0.7.5)\n",
      "Requirement already satisfied: backcall in /usr/local/lib/python3.9/site-packages (from ipython>=6.1.0->ipywidgets) (0.2.0)\n",
      "Requirement already satisfied: pexpect>4.3 in /usr/local/lib/python3.9/site-packages (from ipython>=6.1.0->ipywidgets) (4.8.0)\n",
      "Requirement already satisfied: jedi>=0.16 in /usr/local/lib/python3.9/site-packages (from ipython>=6.1.0->ipywidgets) (0.18.1)\n",
      "Requirement already satisfied: setuptools>=18.5 in /usr/local/lib/python3.9/site-packages (from ipython>=6.1.0->ipywidgets) (63.4.3)\n",
      "Requirement already satisfied: decorator in /usr/local/lib/python3.9/site-packages (from ipython>=6.1.0->ipywidgets) (5.1.1)\n",
      "Requirement already satisfied: prompt-toolkit!=3.0.0,!=3.0.1,<3.1.0,>=2.0.0 in /usr/local/lib/python3.9/site-packages (from ipython>=6.1.0->ipywidgets) (3.0.28)\n",
      "Requirement already satisfied: parso<0.9.0,>=0.8.0 in /usr/local/lib/python3.9/site-packages (from jedi>=0.16->ipython>=6.1.0->ipywidgets) (0.8.3)\n",
      "Requirement already satisfied: pyzmq>=13 in /usr/local/lib/python3.9/site-packages (from jupyter-client<8.0->ipykernel>=4.5.1->ipywidgets) (22.3.0)\n",
      "Requirement already satisfied: entrypoints in /usr/local/lib/python3.9/site-packages (from jupyter-client<8.0->ipykernel>=4.5.1->ipywidgets) (0.4)\n",
      "Requirement already satisfied: python-dateutil>=2.1 in /usr/local/lib/python3.9/site-packages (from jupyter-client<8.0->ipykernel>=4.5.1->ipywidgets) (2.8.2)\n",
      "Requirement already satisfied: jupyter-core>=4.6.0 in /usr/local/lib/python3.9/site-packages (from jupyter-client<8.0->ipykernel>=4.5.1->ipywidgets) (4.9.2)\n",
      "Requirement already satisfied: ptyprocess>=0.5 in /usr/local/lib/python3.9/site-packages (from pexpect>4.3->ipython>=6.1.0->ipywidgets) (0.7.0)\n",
      "Requirement already satisfied: wcwidth in /usr/local/lib/python3.9/site-packages (from prompt-toolkit!=3.0.0,!=3.0.1,<3.1.0,>=2.0.0->ipython>=6.1.0->ipywidgets) (0.2.5)\n",
      "Requirement already satisfied: asttokens in /usr/local/lib/python3.9/site-packages (from stack-data->ipython>=6.1.0->ipywidgets) (2.0.5)\n",
      "Requirement already satisfied: pure-eval in /usr/local/lib/python3.9/site-packages (from stack-data->ipython>=6.1.0->ipywidgets) (0.2.2)\n",
      "Requirement already satisfied: executing in /usr/local/lib/python3.9/site-packages (from stack-data->ipython>=6.1.0->ipywidgets) (0.8.3)\n",
      "Requirement already satisfied: six>=1.5 in /usr/local/lib/python3.9/site-packages (from python-dateutil>=2.1->jupyter-client<8.0->ipykernel>=4.5.1->ipywidgets) (1.16.0)\n",
      "Installing collected packages: widgetsnbextension, jupyterlab-widgets, ipywidgets\n",
      "\u001b[33m  DEPRECATION: Configuring installation scheme with distutils config files is deprecated and will no longer work in the near future. If you are using a Homebrew or Linuxbrew Python, please see discussion at https://github.com/Homebrew/homebrew-core/issues/76621\u001b[0m\u001b[33m\n",
      "\u001b[0m\u001b[33m  DEPRECATION: Configuring installation scheme with distutils config files is deprecated and will no longer work in the near future. If you are using a Homebrew or Linuxbrew Python, please see discussion at https://github.com/Homebrew/homebrew-core/issues/76621\u001b[0m\u001b[33m\n",
      "\u001b[0m\u001b[33m  DEPRECATION: Configuring installation scheme with distutils config files is deprecated and will no longer work in the near future. If you are using a Homebrew or Linuxbrew Python, please see discussion at https://github.com/Homebrew/homebrew-core/issues/76621\u001b[0m\u001b[33m\n",
      "\u001b[0m\u001b[33mDEPRECATION: Configuring installation scheme with distutils config files is deprecated and will no longer work in the near future. If you are using a Homebrew or Linuxbrew Python, please see discussion at https://github.com/Homebrew/homebrew-core/issues/76621\u001b[0m\u001b[33m\n",
      "\u001b[0mSuccessfully installed ipywidgets-8.0.1 jupyterlab-widgets-3.0.2 widgetsnbextension-4.0.2\n"
     ]
    }
   ],
   "source": [
    "# ! pip install --upgrade ipywidgets"
   ]
  },
  {
   "cell_type": "code",
   "execution_count": 136,
   "metadata": {},
   "outputs": [],
   "source": [
    "import tqdm"
   ]
  },
  {
   "cell_type": "code",
   "execution_count": 137,
   "metadata": {
    "scrolled": true
   },
   "outputs": [
    {
     "name": "stdout",
     "output_type": "stream",
     "text": [
      "epoch: 0\n"
     ]
    },
    {
     "name": "stderr",
     "output_type": "stream",
     "text": [
      "313it [00:06, 45.94it/s]\n"
     ]
    },
    {
     "name": "stdout",
     "output_type": "stream",
     "text": [
      " results:\n",
      "Mean square error: 0.46649\n",
      "Mean absolute error: 0.55123\n",
      "epoch: 1\n"
     ]
    },
    {
     "name": "stderr",
     "output_type": "stream",
     "text": [
      "313it [00:07, 43.85it/s]\n"
     ]
    },
    {
     "name": "stdout",
     "output_type": "stream",
     "text": [
      " results:\n",
      "Mean square error: 0.30578\n",
      "Mean absolute error: 0.44725\n",
      "epoch: 2\n"
     ]
    },
    {
     "name": "stderr",
     "output_type": "stream",
     "text": [
      "313it [00:07, 44.10it/s]\n"
     ]
    },
    {
     "name": "stdout",
     "output_type": "stream",
     "text": [
      " results:\n",
      "Mean square error: 0.26054\n",
      "Mean absolute error: 0.41261\n",
      "epoch: 3\n"
     ]
    },
    {
     "name": "stderr",
     "output_type": "stream",
     "text": [
      "313it [00:06, 45.47it/s]\n"
     ]
    },
    {
     "name": "stdout",
     "output_type": "stream",
     "text": [
      " results:\n",
      "Mean square error: 0.24345\n",
      "Mean absolute error: 0.39975\n",
      "epoch: 4\n"
     ]
    },
    {
     "name": "stderr",
     "output_type": "stream",
     "text": [
      "313it [00:06, 44.93it/s]\n"
     ]
    },
    {
     "name": "stdout",
     "output_type": "stream",
     "text": [
      " results:\n",
      "Mean square error: 0.23009\n",
      "Mean absolute error: 0.38514\n",
      "CPU times: user 1min 29s, sys: 9.94 s, total: 1min 39s\n",
      "Wall time: 1min 40s\n"
     ]
    }
   ],
   "source": [
    "%%time\n",
    "model = SalaryPredictor().to(DEVICE)\n",
    "criterion = nn.MSELoss(reduction='sum')\n",
    "optimizer = torch.optim.SGD(model.parameters(), lr=1e-4)\n",
    "\n",
    "for epoch in range(EPOCHS):\n",
    "    print(f\"epoch: {epoch}\")\n",
    "    model.train()\n",
    "#     for i, batch in tqdm.tqdm_notebook(enumerate(\n",
    "#             iterate_minibatches(data_train, batch_size=BATCH_SIZE, device=DEVICE)),\n",
    "#             total=len(data_train) // BATCH_SIZE\n",
    "#         ):\n",
    "    for i, batch in tqdm.tqdm(enumerate(iterate_minibatches(data_train[:10000], batch_size=BATCH_SIZE, device=DEVICE))):\n",
    "        pred = model(batch)\n",
    "        loss = criterion(pred, batch[TARGET_COLUMN])\n",
    "        optimizer.zero_grad()\n",
    "        loss.backward()\n",
    "        optimizer.step()\n",
    "        \n",
    "    print_metrics(model, data_val)\n",
    "\n",
    "      "
   ]
  },
  {
   "cell_type": "code",
   "execution_count": 138,
   "metadata": {},
   "outputs": [
    {
     "data": {
      "text/plain": [
       "tensor([25535.3379, 34575.9414, 27930.7363, 21297.4355, 22757.0215, 31073.3770,\n",
       "        22264.0566, 22840.7520, 20622.3496, 31631.3242, 30429.0938, 26997.9180,\n",
       "        37761.6797, 24973.2793, 35790.6250, 23658.1426],\n",
       "       grad_fn=<ExpBackward0>)"
      ]
     },
     "execution_count": 138,
     "metadata": {},
     "output_type": "execute_result"
    }
   ],
   "source": [
    "torch.exp(model(batch))"
   ]
  },
  {
   "cell_type": "code",
   "execution_count": 140,
   "metadata": {},
   "outputs": [],
   "source": [
    "descrp = \"\"\"\n",
    "Сейчас мы в поиске Data Scientist.\n",
    "\n",
    "Предстоящие задачи:\n",
    "\n",
    "Развитие комплекса технологий для сопоставления товарных позиций. Цель - создать максимально автоматизированную нейронную технологию матчинга товарных позиций по названию или в идеальном варианте гибридную, то есть название + картинка.\n",
    "Участвовать в дальнейшем развитие технологии конвейера обработки данных. В данный момент конвейер используется в основном для обработки фотографии с ценовыми данными, планируем расширять спектр обрабатываемых данных.\n",
    "Если вы идеальный кандидат и имеете еще и опыт в СV, то вам нужно будет поддерживать и развивать нашу нейронную технологию по чтению ценников.\n",
    "От вас мы ждем инициативы в поиске подходов и алгоритмов.\n",
    "\n",
    "Требуемый опыт:\n",
    "\n",
    "Уверенно владеете Python 3;\n",
    "\n",
    "SQL: написание, профилирование и оптимизация запросов;\n",
    "\n",
    "Знания рекуррентной нейронных сетей, языковых моделей;\n",
    "\n",
    "Уверенно пользуетесь IDE, например: PyCharm, VS Code, Sublime, Vim;\n",
    "\n",
    "Python: опыт работы с Scikit-learn, SciPy;\n",
    "\n",
    "Опыт работы с фреймворками Pytorch и TensorFlow (Keras);\n",
    "\n",
    "Умеете читать и рефакторить чужой код;\n",
    "\n",
    "Для решения своих задач используете jupyter-тетрадки, а также библиотеки pandas и numpy;\n",
    "\n",
    "Знание алгоритмов машинного обучения, опыт решения задач в области NLP;\n",
    "\n",
    "Знакомы с библиотеками: PIL, OpenCV, scipy, sklearn;\n",
    "\n",
    "Обучали модели на GPU не в облаке (!), умеете развертывать модели на nvidia-docker.\n",
    "\n",
    "Будет плюсом, если вы:\n",
    "\n",
    "Имеете опыт ML-разработки на нейросетевых задачах в продакшене;\n",
    "\n",
    "Развёртывали модели машинного обучения (не обязательно нейросетевые) в продакшн (gRPC, REST API и др.);\n",
    "\n",
    "Имеете опыт ведения проекта от разработки модели до внедрения в продакшен;\n",
    "\n",
    "Свободно владеете теорией построения архитектуры и state of art решениями для распознавания текстов и детекции объектов с изображений;\n",
    "\n",
    "Имеете опыт применения машинного обучения для реальных бизнес-задач, работы с сырыми данными, разработки моделей и их валидации;\n",
    "\n",
    "Знаете технологии Kafka, Hadoop, Avro.\n",
    "\n",
    "Мы предлагаем:\n",
    "\n",
    "Работа в стабильной IT компании с технологичными продуктами. Мы устойчиво растем уже 8 лет;\n",
    "\n",
    "Официальное трудоустройство по ТК РФ, полностью \"белая\" зарплата;\n",
    "\n",
    "Удобный график с гибким началом рабочего дня;\n",
    "\n",
    "Возможность работать удаленно, по гибридному графику или в офисе;\n",
    "\n",
    "Обучение и развитие: компания компенсирует профессиональное обучение;\n",
    "\n",
    "Ежемесячная компенсация каршеринга;\n",
    "\n",
    "Небольшая, очень бодрая и целеустремленная команда, которой мы гордимся;\n",
    "\n",
    "Отсутствие дресс-кода, бюрократии, формализма в процессах и коммуникациях.\n",
    "\"\"\".lower()"
   ]
  },
  {
   "cell_type": "code",
   "execution_count": 141,
   "metadata": {},
   "outputs": [
    {
     "data": {
      "text/plain": [
       "'\\nсейчас мы в поиске data scientist.\\n\\nпредстоящие задачи:\\n\\nразвитие комплекса технологий для сопоставления товарных позиций. цель - создать максимально автоматизированную нейронную технологию матчинга товарных позиций по названию или в идеальном варианте гибридную, то есть название + картинка.\\nучаствовать в дальнейшем развитие технологии конвейера обработки данных. в данный момент конвейер используется в основном для обработки фотографии с ценовыми данными, планируем расширять спектр обрабатываемых данных.\\nесли вы идеальный кандидат и имеете еще и опыт в сv, то вам нужно будет поддерживать и развивать нашу нейронную технологию по чтению ценников.\\nот вас мы ждем инициативы в поиске подходов и алгоритмов.\\n\\nтребуемый опыт:\\n\\nуверенно владеете python 3;\\n\\nsql: написание, профилирование и оптимизация запросов;\\n\\nзнания рекуррентной нейронных сетей, языковых моделей;\\n\\nуверенно пользуетесь ide, например: pycharm, vs code, sublime, vim;\\n\\npython: опыт работы с scikit-learn, scipy;\\n\\nопыт работы с фреймворками pytorch и tensorflow (keras);\\n\\nумеете читать и рефакторить чужой код;\\n\\nдля решения своих задач используете jupyter-тетрадки, а также библиотеки pandas и numpy;\\n\\nзнание алгоритмов машинного обучения, опыт решения задач в области nlp;\\n\\nзнакомы с библиотеками: pil, opencv, scipy, sklearn;\\n\\nобучали модели на gpu не в облаке (!), умеете развертывать модели на nvidia-docker.\\n\\nбудет плюсом, если вы:\\n\\nимеете опыт ml-разработки на нейросетевых задачах в продакшене;\\n\\nразвёртывали модели машинного обучения (не обязательно нейросетевые) в продакшн (grpc, rest api и др.);\\n\\nимеете опыт ведения проекта от разработки модели до внедрения в продакшен;\\n\\nсвободно владеете теорией построения архитектуры и state of art решениями для распознавания текстов и детекции объектов с изображений;\\n\\nимеете опыт применения машинного обучения для реальных бизнес-задач, работы с сырыми данными, разработки моделей и их валидации;\\n\\nзнаете технологии kafka, hadoop, avro.\\n\\nмы предлагаем:\\n\\nработа в стабильной it компании с технологичными продуктами. мы устойчиво растем уже 8 лет;\\n\\nофициальное трудоустройство по тк рф, полностью \"белая\" зарплата;\\n\\nудобный график с гибким началом рабочего дня;\\n\\nвозможность работать удаленно, по гибридному графику или в офисе;\\n\\nобучение и развитие: компания компенсирует профессиональное обучение;\\n\\nежемесячная компенсация каршеринга;\\n\\nнебольшая, очень бодрая и целеустремленная команда, которой мы гордимся;\\n\\nотсутствие дресс-кода, бюрократии, формализма в процессах и коммуникациях.\\n'"
      ]
     },
     "execution_count": 141,
     "metadata": {},
     "output_type": "execute_result"
    }
   ],
   "source": [
    "descrp"
   ]
  },
  {
   "cell_type": "code",
   "execution_count": 177,
   "metadata": {},
   "outputs": [
    {
     "data": {
      "text/html": [
       "<div>\n",
       "<style scoped>\n",
       "    .dataframe tbody tr th:only-of-type {\n",
       "        vertical-align: middle;\n",
       "    }\n",
       "\n",
       "    .dataframe tbody tr th {\n",
       "        vertical-align: top;\n",
       "    }\n",
       "\n",
       "    .dataframe thead th {\n",
       "        text-align: right;\n",
       "    }\n",
       "</style>\n",
       "<table border=\"1\" class=\"dataframe\">\n",
       "  <thead>\n",
       "    <tr style=\"text-align: right;\">\n",
       "      <th></th>\n",
       "      <th>Id</th>\n",
       "      <th>Title</th>\n",
       "      <th>FullDescription</th>\n",
       "      <th>LocationRaw</th>\n",
       "      <th>LocationNormalized</th>\n",
       "      <th>ContractType</th>\n",
       "      <th>ContractTime</th>\n",
       "      <th>Company</th>\n",
       "      <th>Category</th>\n",
       "      <th>SalaryRaw</th>\n",
       "      <th>SalaryNormalized</th>\n",
       "      <th>SourceName</th>\n",
       "      <th>Log1pSalary</th>\n",
       "    </tr>\n",
       "  </thead>\n",
       "  <tbody>\n",
       "    <tr>\n",
       "      <th>123</th>\n",
       "      <td>39896096</td>\n",
       "      <td>senior process engineer</td>\n",
       "      <td>job title senior process engineer location war...</td>\n",
       "      <td>Warrington, Cheshire</td>\n",
       "      <td>Warrington</td>\n",
       "      <td>NaN</td>\n",
       "      <td>permanent</td>\n",
       "      <td>Rullion Engineering Ltd</td>\n",
       "      <td>Engineering Jobs</td>\n",
       "      <td>39000 - 46000/annum</td>\n",
       "      <td>42500</td>\n",
       "      <td>cv-library.co.uk</td>\n",
       "      <td>10.657283</td>\n",
       "    </tr>\n",
       "  </tbody>\n",
       "</table>\n",
       "</div>"
      ],
      "text/plain": [
       "           Id                    Title  \\\n",
       "123  39896096  senior process engineer   \n",
       "\n",
       "                                       FullDescription           LocationRaw  \\\n",
       "123  job title senior process engineer location war...  Warrington, Cheshire   \n",
       "\n",
       "    LocationNormalized ContractType ContractTime                  Company  \\\n",
       "123         Warrington          NaN    permanent  Rullion Engineering Ltd   \n",
       "\n",
       "             Category            SalaryRaw  SalaryNormalized  \\\n",
       "123  Engineering Jobs  39000 - 46000/annum             42500   \n",
       "\n",
       "           SourceName  Log1pSalary  \n",
       "123  cv-library.co.uk    10.657283  "
      ]
     },
     "metadata": {},
     "output_type": "display_data"
    },
    {
     "data": {
      "text/plain": [
       "tensor([133559.7500], grad_fn=<ExpBackward0>)"
      ]
     },
     "execution_count": 177,
     "metadata": {},
     "output_type": "execute_result"
    }
   ],
   "source": [
    "i = 123\n",
    "display(data[i:i+1])\n",
    "torch.exp(model(make_batch(data[i:i+1].drop(target_column, axis=1))))"
   ]
  },
  {
   "cell_type": "code",
   "execution_count": 162,
   "metadata": {},
   "outputs": [
    {
     "data": {
      "text/plain": [
       "tensor([52036.2773], grad_fn=<ExpBackward0>)"
      ]
     },
     "execution_count": 162,
     "metadata": {},
     "output_type": "execute_result"
    }
   ],
   "source": [
    "# Data Scientist (NLP, СV)\n",
    "\n",
    "df_test = pd.DataFrame({\"Title\": [\"Data Scientist (NLP, СV)\".lower()], \n",
    "                        \"FullDescription\": ['we are looking for data scientist'], \n",
    "                        \"Company\": [\"\"], 'Category':[\"\"], 'LocationNormalized':[\"\"], \n",
    "                        'ContractType':[\"\"], 'ContractTime':[\"\"]})\n",
    "torch.exp(model(make_batch(df_test, max_len=10)))"
   ]
  },
  {
   "cell_type": "code",
   "execution_count": 139,
   "metadata": {},
   "outputs": [
    {
     "data": {
      "text/plain": [
       "tensor([122947.4062], grad_fn=<ExpBackward0>)"
      ]
     },
     "execution_count": 139,
     "metadata": {},
     "output_type": "execute_result"
    }
   ],
   "source": [
    "# Data Scientist (NLP, СV)\n",
    "\n",
    "df_test = pd.DataFrame({\"Title\": [\"Data Scientist (NLP, СV)\".lower()], \n",
    "                        \"FullDescription\": [''], \n",
    "                        \"Company\": [\"A\"], 'Category':[\"\"], 'LocationNormalized':[\"\"], \n",
    "                        'ContractType':[\"\"], 'ContractTime':[\"\"]})\n",
    "torch.exp(model(make_batch(df_test, max_len=10)))"
   ]
  },
  {
   "cell_type": "code",
   "execution_count": 196,
   "metadata": {},
   "outputs": [
    {
     "data": {
      "text/plain": [
       "tensor([107797.8203], grad_fn=<ExpBackward0>)"
      ]
     },
     "execution_count": 196,
     "metadata": {},
     "output_type": "execute_result"
    }
   ],
   "source": [
    "df_test = pd.DataFrame({\"Title\": [\"senior data scientist\"], \"FullDescription\": [\"\"], \n",
    "                        \"Company\": [\"\"], 'Category':[\"\"], 'LocationNormalized':[\"\"], \n",
    "                        'ContractType':[\"\"], 'ContractTime':[\"\"]})\n",
    "torch.exp(model(make_batch(df_test, max_len=10)))"
   ]
  },
  {
   "cell_type": "code",
   "execution_count": 191,
   "metadata": {},
   "outputs": [
    {
     "data": {
      "text/plain": [
       "tensor([86679.7109], grad_fn=<ExpBackward0>)"
      ]
     },
     "execution_count": 191,
     "metadata": {},
     "output_type": "execute_result"
    }
   ],
   "source": [
    "df_test = pd.DataFrame({\"Title\": [\"middle data scientist\"], \"FullDescription\": [\"\"], \n",
    "                        \"Company\": [\"\"], 'Category':[\"\"], 'LocationNormalized':[\"\"], \n",
    "                        'ContractType':[\"\"], 'ContractTime':[\"\"]})\n",
    "torch.exp(model(make_batch(df_test, max_len=10)))"
   ]
  },
  {
   "cell_type": "code",
   "execution_count": 192,
   "metadata": {},
   "outputs": [
    {
     "data": {
      "text/plain": [
       "tensor([61719.1016], grad_fn=<ExpBackward0>)"
      ]
     },
     "execution_count": 192,
     "metadata": {},
     "output_type": "execute_result"
    }
   ],
   "source": [
    "df_test = pd.DataFrame({\"Title\": [\"junior data scientist\"], \"FullDescription\": [\"\"], \n",
    "                        \"Company\": [\"\"], 'Category':[\"\"], 'LocationNormalized':[\"\"], \n",
    "                        'ContractType':[\"\"], 'ContractTime':[\"\"]})\n",
    "torch.exp(model(make_batch(df_test, max_len=10)))"
   ]
  },
  {
   "cell_type": "markdown",
   "metadata": {},
   "source": [
    "### Bonus part: explaining model predictions\n",
    "\n",
    "It's usually a good idea to understand how your model works before you let it make actual decisions. It's simple for linear models: just see which words learned positive or negative weights. However, its much harder for neural networks that learn complex nonlinear dependencies.\n",
    "\n",
    "There are, however, some ways to look inside the black box:\n",
    "* Seeing how model responds to input perturbations\n",
    "* Finding inputs that maximize/minimize activation of some chosen neurons (_read more [on distill.pub](https://distill.pub/2018/building-blocks/)_)\n",
    "* Building local linear approximations to your neural network: [article](https://arxiv.org/abs/1602.04938), [eli5 library](https://github.com/TeamHG-Memex/eli5/tree/master/eli5/formatters)\n",
    "\n",
    "Today we gonna try the first method just because it's the simplest one."
   ]
  },
  {
   "cell_type": "code",
   "execution_count": 257,
   "metadata": {},
   "outputs": [],
   "source": [
    "def explain(model, sample, col_name='Title'):\n",
    "    \"\"\" Computes the effect each word had on model predictions \"\"\"\n",
    "    sample = dict(sample)\n",
    "    sample_col_tokens = [tokens[token_to_id.get(tok, 0)] for tok in sample[col_name].split()]\n",
    "    data_drop_one_token = pd.DataFrame([sample] * (len(sample_col_tokens) + 1))\n",
    "    data_no_drop = pd.DataFrame([sample] * (len(sample_col_tokens) + 1))\n",
    "\n",
    "    for drop_i in range(len(sample_col_tokens)):\n",
    "        data_drop_one_token.loc[drop_i, col_name] = ' '.join(UNK if i == drop_i else tok\n",
    "                                                   for i, tok in enumerate(sample_col_tokens))\n",
    "        data_no_drop.loc[drop_i, col_name] = ' '.join(tok\n",
    "                                           for i, tok in enumerate(sample_col_tokens))\n",
    "    \n",
    "#     print(model.predict(make_batch(data_drop_one_token)))\n",
    "#     display(data_drop_one_token)\n",
    "#     display(data_no_drop)\n",
    "    \n",
    "#     *predictions_drop_one_token, baseline_pred = model.predict(make_batch(data_drop_one_token))[:, 0]\n",
    "    predictions_drop_one_token = model.predict(make_batch(data_drop_one_token))\n",
    "    baseline_pred = model.predict(make_batch(data_no_drop))\n",
    "    diffs = baseline_pred - predictions_drop_one_token\n",
    "    return list(zip(sample_col_tokens, diffs.detach().numpy())) # .unsqueeze(0).detach()"
   ]
  },
  {
   "cell_type": "code",
   "execution_count": 258,
   "metadata": {},
   "outputs": [],
   "source": [
    "from IPython.display import HTML, display_html\n",
    "\n",
    "\n",
    "def draw_html(tokens_and_weights, cmap=plt.get_cmap(\"bwr\"), display=True,\n",
    "              token_template=\"\"\"<span style=\"background-color: {color_hex}\">{token}</span>\"\"\",\n",
    "              font_style=\"font-size:14px;\"\n",
    "             ):\n",
    "    \n",
    "    def get_color_hex(weight):\n",
    "        rgba = cmap(1. / (1 + np.exp(weight)), bytes=True)\n",
    "        return '#%02X%02X%02X' % rgba[:3]\n",
    "    \n",
    "    tokens_html = [\n",
    "        token_template.format(token=token, color_hex=get_color_hex(weight))\n",
    "        for token, weight in tokens_and_weights\n",
    "    ]\n",
    "    \n",
    "    \n",
    "    raw_html = \"\"\"<p style=\"{}\">{}</p>\"\"\".format(font_style, ' '.join(tokens_html))\n",
    "    if display:\n",
    "        display_html(HTML(raw_html))\n",
    "        \n",
    "    return raw_html\n",
    "    "
   ]
  },
  {
   "cell_type": "code",
   "execution_count": 259,
   "metadata": {},
   "outputs": [
    {
     "data": {
      "text/html": [
       "<p style=\"font-size:20px;\"><span style=\"background-color: #BABAFF\">sales</span> <span style=\"background-color: #D8D8FF\">specialist</span> <span style=\"background-color: #F6F6FF\">iv</span> <span style=\"background-color: #FF8A8A\">access</span> <span style=\"background-color: #9E9EFF\">and</span> <span style=\"background-color: #E0E0FF\">infusion</span></p>"
      ]
     },
     "metadata": {},
     "output_type": "display_data"
    },
    {
     "data": {
      "text/html": [
       "<p style=\"font-size:14px;\"><span style=\"background-color: #FEFEFF\">sales</span> <span style=\"background-color: #FEFEFF\">representative</span> <span style=\"background-color: #FEFEFF\">medical</span> <span style=\"background-color: #FEFEFF\">sales</span> <span style=\"background-color: #FEFEFF\">iv</span> <span style=\"background-color: #FEFEFF\">access</span> <span style=\"background-color: #FEFEFF\">and</span> <span style=\"background-color: #FEFEFF\">infusion</span> <span style=\"background-color: #FFFEFE\">an</span> <span style=\"background-color: #FEFEFF\">opportunity</span> <span style=\"background-color: #FEFEFF\">to</span> <span style=\"background-color: #FEFEFF\">work</span> <span style=\"background-color: #FEFEFF\">for</span> <span style=\"background-color: #FEFEFF\">the</span> <span style=\"background-color: #FEFEFF\">industry</span> <span style=\"background-color: #FEFEFF\">leading</span> <span style=\"background-color: #FEFEFF\">manufacturer</span> <span style=\"background-color: #FEFEFF\">of</span> <span style=\"background-color: #FEFEFF\">iv</span> <span style=\"background-color: #FEFEFF\">access</span> <span style=\"background-color: #FEFEFF\">and</span> <span style=\"background-color: #FEFEFF\">infusion</span> <span style=\"background-color: #FEFEFF\">solutions</span> <span style=\"background-color: #FEFEFF\">.</span> <span style=\"background-color: #FEFEFF\">formally</span> <span style=\"background-color: #FEFEFF\">recognised</span> <span style=\"background-color: #FFFEFE\">as</span> <span style=\"background-color: #FEFEFF\">the</span> <span style=\"background-color: #FFFEFE\">number</span> <span style=\"background-color: #FEFEFF\">****</span> <span style=\"background-color: #FEFEFF\">company</span> <span style=\"background-color: #FEFEFF\">in</span> <span style=\"background-color: #FFFEFE\">this</span> <span style=\"background-color: #FFFEFE\">market</span> <span style=\"background-color: #FFFEFE\">space</span> <span style=\"background-color: #FEFEFF\">,</span> <span style=\"background-color: #FEFEFF\">our</span> <span style=\"background-color: #FEFEFF\">client</span> <span style=\"background-color: #FFFEFE\">are</span> <span style=\"background-color: #FFFEFE\">an</span> <span style=\"background-color: #FEFEFF\">ethical</span> <span style=\"background-color: #FEFEFF\">and</span> <span style=\"background-color: #FEFEFF\">dynamic</span> <span style=\"background-color: #FEFEFF\">organisation</span> <span style=\"background-color: #FEFEFF\">absolutely</span> <span style=\"background-color: #FEFEFF\">committed</span> <span style=\"background-color: #FEFEFF\">to</span> <span style=\"background-color: #FEFEFF\">the</span> <span style=\"background-color: #FFFEFE\">advancement</span> <span style=\"background-color: #FEFEFF\">of</span> <span style=\"background-color: #FEFEFF\">innovative</span> <span style=\"background-color: #FEFEFF\">technologies</span> <span style=\"background-color: #FEFEFF\">.</span> <span style=\"background-color: #FEFEFF\">job</span> <span style=\"background-color: #FEFEFF\">title</span> <span style=\"background-color: #FEFEFF\">:</span> <span style=\"background-color: #FEFEFF\">sales</span> <span style=\"background-color: #FEFEFF\">specialist</span> <span style=\"background-color: #FEFEFF\">iv</span> <span style=\"background-color: #FEFEFF\">access</span> <span style=\"background-color: #FEFEFF\">and</span> <span style=\"background-color: #FEFEFF\">infusion</span> <span style=\"background-color: #FFFEFE\">selling</span> <span style=\"background-color: #FEFEFF\">:</span> <span style=\"background-color: #FEFEFF\">medication</span> <span style=\"background-color: #FEFEFF\">delivery</span> <span style=\"background-color: #FEFEFF\">solutions</span> <span style=\"background-color: #FFFEFE\">selling</span> <span style=\"background-color: #FEFEFF\">to</span> <span style=\"background-color: #FEFEFF\">:</span> <span style=\"background-color: #FEFEFF\">iv</span> <span style=\"background-color: #FEFEFF\">teams</span> <span style=\"background-color: #FEFEFF\">,</span> <span style=\"background-color: #FEFEFF\">infection</span> <span style=\"background-color: #FEFEFF\">control</span> <span style=\"background-color: #FEFEFF\">,</span> <span style=\"background-color: #FFFEFE\">lead</span> <span style=\"background-color: #FEFEFF\">intensive</span> <span style=\"background-color: #FFFEFE\">care</span> <span style=\"background-color: #FEFEFF\">nurse</span> <span style=\"background-color: #FEFEFF\">specialists</span> <span style=\"background-color: #FEFEFF\">,</span> <span style=\"background-color: #FEFEFF\">ward</span> <span style=\"background-color: #FEFEFF\">managers</span> <span style=\"background-color: #FEFEFF\">territory</span> <span style=\"background-color: #FEFEFF\">:</span> <span style=\"background-color: #FEFEFF\">east</span> <span style=\"background-color: #FEFEFF\">midlands</span> <span style=\"background-color: #FEFEFF\">location</span> <span style=\"background-color: #FEFEFF\">:</span> <span style=\"background-color: #FEFEFF\">east</span> <span style=\"background-color: #FEFEFF\">midlands</span> <span style=\"background-color: #FEFEFF\">package</span> <span style=\"background-color: #FEFEFF\">:</span> <span style=\"background-color: #FEFEFF\">basic</span> <span style=\"background-color: #FEFEFF\">:</span> <span style=\"background-color: #FEFEFF\">****</span> <span style=\"background-color: #FEFEFF\">k</span> <span style=\"background-color: #FEFEFF\">****</span> <span style=\"background-color: #FEFEFF\">k</span> <span style=\"background-color: #FEFEFF\">,</span> <span style=\"background-color: #FEFEFF\">uncapped</span> <span style=\"background-color: #FEFEFF\">bonus</span> <span style=\"background-color: #FEFEFF\">in</span> <span style=\"background-color: #FEFEFF\">addition</span> <span style=\"background-color: #FEFEFF\">,</span> <span style=\"background-color: #FEFEFF\">full</span> <span style=\"background-color: #FEFEFF\">corporate</span> <span style=\"background-color: #FEFEFF\">benefits</span> <span style=\"background-color: #FEFEFF\">company</span> <span style=\"background-color: #FEFEFF\">information</span> <span style=\"background-color: #FEFEFF\">hugely</span> <span style=\"background-color: #FEFEFF\">ethical</span> <span style=\"background-color: #FEFEFF\">and</span> <span style=\"background-color: #FEFEFF\">professional</span> <span style=\"background-color: #FEFEFF\">global</span> <span style=\"background-color: #FEFEFF\">organisation</span> <span style=\"background-color: #FEFEFF\">extremely</span> <span style=\"background-color: #FFFEFE\">well</span> <span style=\"background-color: #FFFEFE\">established</span> <span style=\"background-color: #FEFEFF\">in</span> <span style=\"background-color: #FEFEFF\">the</span> <span style=\"background-color: #FEFEFF\">uk</span> <span style=\"background-color: #FEFEFF\">the</span> <span style=\"background-color: #FFFEFE\">market</span> <span style=\"background-color: #FEFEFF\">leader</span> <span style=\"background-color: #FEFEFF\">across</span> <span style=\"background-color: #FEFEFF\">all</span> <span style=\"background-color: #FEFEFF\">of</span> <span style=\"background-color: #FEFEFF\">their</span> <span style=\"background-color: #FFFEFE\">core</span> <span style=\"background-color: #FEFEFF\">business</span> <span style=\"background-color: #FEFEFF\">areas</span> <span style=\"background-color: #FEFEFF\">focus</span> <span style=\"background-color: #FEFEFF\">on</span> <span style=\"background-color: #FEFEFF\">providing</span> <span style=\"background-color: #FEFEFF\">cutting</span> <span style=\"background-color: #FEFEFF\">edge</span> <span style=\"background-color: #FEFEFF\">solutions</span> <span style=\"background-color: #FEFEFF\">along</span> <span style=\"background-color: #FEFEFF\">with</span> <span style=\"background-color: #FEFEFF\">outstanding</span> <span style=\"background-color: #FEFEFF\">service</span> <span style=\"background-color: #FEFEFF\">and</span> <span style=\"background-color: #FFFEFE\">support</span> <span style=\"background-color: #FEFEFF\">a</span> <span style=\"background-color: #FEFEFF\">business</span> <span style=\"background-color: #FEFEFF\">that</span> <span style=\"background-color: #FEFEFF\">retain</span> <span style=\"background-color: #FEFEFF\">talented</span> <span style=\"background-color: #FEFEFF\">personnel</span> <span style=\"background-color: #FFFEFE\">by</span> <span style=\"background-color: #FEFEFF\">offering</span> <span style=\"background-color: #FEFEFF\">a</span> <span style=\"background-color: #FEFEFF\">strong</span> <span style=\"background-color: #FEFEFF\">platform</span> <span style=\"background-color: #FEFEFF\">for</span> <span style=\"background-color: #FEFEFF\">career</span> <span style=\"background-color: #FFFEFE\">development</span> <span style=\"background-color: #FEFEFF\">sales</span> <span style=\"background-color: #FEFEFF\">specialist</span> <span style=\"background-color: #FEFEFF\">iv</span> <span style=\"background-color: #FEFEFF\">access</span> <span style=\"background-color: #FEFEFF\">and</span> <span style=\"background-color: #FEFEFF\">infusion</span> <span style=\"background-color: #FEFEFF\">you</span> <span style=\"background-color: #FEFEFF\">must</span> <span style=\"background-color: #FEFEFF\">have</span> <span style=\"background-color: #FFFEFE\">/</span> <span style=\"background-color: #FEFEFF\">be</span> <span style=\"background-color: #FEFEFF\">the</span> <span style=\"background-color: #FEFEFF\">following</span> <span style=\"background-color: #FEFEFF\">at</span> <span style=\"background-color: #FEFEFF\">least</span> <span style=\"background-color: #FFFEFE\">2</span> <span style=\"background-color: #FEFEFF\">years</span> <span style=\"background-color: #FEFEFF\">medical</span> <span style=\"background-color: #FEFEFF\">device</span> <span style=\"background-color: #FEFEFF\">sales</span> <span style=\"background-color: #FEFEFF\">experience</span> <span style=\"background-color: #FEFEFF\">.</span> <span style=\"background-color: #FEFEFF\">candidates</span> <span style=\"background-color: #FEFEFF\">who</span> <span style=\"background-color: #FEFEFF\">have</span> <span style=\"background-color: #FEFEFF\">sold</span> <span style=\"background-color: #FFFEFE\">disposables</span> <span style=\"background-color: #FFFEFE\">/</span> <span style=\"background-color: #FEFEFF\">consumables</span> <span style=\"background-color: #FEFEFF\">or</span> <span style=\"background-color: #FFFEFE\">similar</span> <span style=\"background-color: #FEFEFF\">into</span> <span style=\"background-color: #FEFEFF\">hospitals</span> <span style=\"background-color: #FEFEFF\">would</span> <span style=\"background-color: #FEFEFF\">be</span> <span style=\"background-color: #FEFEFF\">of</span> <span style=\"background-color: #FFFEFE\">particular</span> <span style=\"background-color: #FEFEFF\">interest</span> <span style=\"background-color: #FEFEFF\">.</span> <span style=\"background-color: #FEFEFF\">candidates</span> <span style=\"background-color: #FEFEFF\">must</span> <span style=\"background-color: #FEFEFF\">have</span> <span style=\"background-color: #FEFEFF\">sold</span> <span style=\"background-color: #FEFEFF\">into</span> <span style=\"background-color: #FEFEFF\">hospitals</span> <span style=\"background-color: #FEFEFF\">demonstrable</span> <span style=\"background-color: #FEFEFF\">performance</span> <span style=\"background-color: #FEFEFF\">and</span> <span style=\"background-color: #FEFEFF\">achievements</span> <span style=\"background-color: #FEFEFF\">so</span> <span style=\"background-color: #FEFEFF\">far</span> <span style=\"background-color: #FEFEFF\">personable</span> <span style=\"background-color: #FEFEFF\">,</span> <span style=\"background-color: #FEFEFF\">adaptable</span> <span style=\"background-color: #FEFEFF\">and</span> <span style=\"background-color: #FEFEFF\">willing</span> <span style=\"background-color: #FEFEFF\">to</span> <span style=\"background-color: #FEFEFF\">learn</span> <span style=\"background-color: #FEFEFF\">keen</span> <span style=\"background-color: #FEFEFF\">and</span> <span style=\"background-color: #FEFEFF\">eager</span> <span style=\"background-color: #FEFEFF\">to</span> <span style=\"background-color: #FEFEFF\">be</span> <span style=\"background-color: #FEFEFF\">a</span> <span style=\"background-color: #FFFEFE\">success</span> <span style=\"background-color: #FEFEFF\">candidates</span> <span style=\"background-color: #FEFEFF\">must</span> <span style=\"background-color: #FEFEFF\">have</span> <span style=\"background-color: #FEFEFF\">a</span> <span style=\"background-color: #FEFEFF\">degree</span> <span style=\"background-color: #FEFEFF\">or</span> <span style=\"background-color: #FEFEFF\">at</span> <span style=\"background-color: #FEFEFF\">least</span> <span style=\"background-color: #FEFEFF\">be</span> <span style=\"background-color: #FEFEFF\">able</span> <span style=\"background-color: #FEFEFF\">to</span> <span style=\"background-color: #FEFEFF\">show</span> <span style=\"background-color: #FEFEFF\">a</span> <span style=\"background-color: #FEFEFF\">strong</span> <span style=\"background-color: #FEFEFF\">ability</span> <span style=\"background-color: #FEFEFF\">to</span> <span style=\"background-color: #FEFEFF\">learn</span> <span style=\"background-color: #FEFEFF\">role</span> <span style=\"background-color: #FEFEFF\">information</span> <span style=\"background-color: #FEFEFF\">managing</span> <span style=\"background-color: #FEFEFF\">the</span> <span style=\"background-color: #FEFEFF\">east</span> <span style=\"background-color: #FEFEFF\">midlands</span> <span style=\"background-color: #FEFEFF\">region</span> <span style=\"background-color: #FFFEFE\">selling</span> <span style=\"background-color: #FEFEFF\">across</span> <span style=\"background-color: #FEFEFF\">the</span> <span style=\"background-color: #FEFEFF\">company</span> <span style=\"background-color: #FEFEFF\">'</span> <span style=\"background-color: #FEFEFF\">s</span> <span style=\"background-color: #FEFEFF\">range</span> <span style=\"background-color: #FEFEFF\">of</span> <span style=\"background-color: #FEFEFF\">iv</span> <span style=\"background-color: #FEFEFF\">and</span> <span style=\"background-color: #FEFEFF\">infusion</span> <span style=\"background-color: #FEFEFF\">solutions</span> <span style=\"background-color: #FFFEFE\">portfolio</span> <span style=\"background-color: #FFFEFE\">selling</span> <span style=\"background-color: #FEFEFF\">into</span> <span style=\"background-color: #FFFEFE\">lead</span> <span style=\"background-color: #FEFEFF\">intensive</span> <span style=\"background-color: #FFFEFE\">care</span> <span style=\"background-color: #FEFEFF\">nurse</span> <span style=\"background-color: #FEFEFF\">specialists</span> <span style=\"background-color: #FEFEFF\">,</span> <span style=\"background-color: #FEFEFF\">ward</span> <span style=\"background-color: #FEFEFF\">managers</span> <span style=\"background-color: #FEFEFF\">,</span> <span style=\"background-color: #FEFEFF\">iv</span> <span style=\"background-color: #FEFEFF\">teams</span> <span style=\"background-color: #FEFEFF\">,</span> <span style=\"background-color: #FEFEFF\">infection</span> <span style=\"background-color: #FEFEFF\">control</span> <span style=\"background-color: #FEFEFF\">teams</span> <span style=\"background-color: #FEFEFF\">,</span> <span style=\"background-color: #FFFEFE\">procurement</span> <span style=\"background-color: #FEFEFF\">sales</span> <span style=\"background-color: #FEFEFF\">specialist</span> <span style=\"background-color: #FEFEFF\">iv</span> <span style=\"background-color: #FEFEFF\">access</span> <span style=\"background-color: #FEFEFF\">and</span> <span style=\"background-color: #FEFEFF\">infusion</span> <span style=\"background-color: #FEFEFF\">candidates</span> <span style=\"background-color: #FEFEFF\">must</span> <span style=\"background-color: #FEFEFF\">be</span> <span style=\"background-color: #FEFEFF\">eligible</span> <span style=\"background-color: #FEFEFF\">to</span> <span style=\"background-color: #FEFEFF\">work</span> <span style=\"background-color: #FEFEFF\">and</span> <span style=\"background-color: #FEFEFF\">live</span> <span style=\"background-color: #FEFEFF\">in</span> <span style=\"background-color: #FEFEFF\">the</span> <span style=\"background-color: #FEFEFF\">uk</span> <span style=\"background-color: #FEFEFF\">.</span> <span style=\"background-color: #FFFEFE\">please</span> <span style=\"background-color: #FFFEFE\">contact</span> <span style=\"background-color: #FEFEFF\">allan</span> <span style=\"background-color: #FEFEFF\">waller</span> <span style=\"background-color: #FEFEFF\">on</span> <span style=\"background-color: #FEFEFF\">****</span> <span style=\"background-color: #FEFEFF\">****</span> <span style=\"background-color: #FEFEFF\">****</span> <span style=\"background-color: #FEFEFF\">or</span> <span style=\"background-color: #FFFEFE\">please</span> <span style=\"background-color: #FEFEFF\">hit</span> <span style=\"background-color: #FEFEFF\">the</span> <span style=\"background-color: #FEFEFF\">apply</span> <span style=\"background-color: #FEFEFF\">button</span> <span style=\"background-color: #FEFEFF\">.</span> <span style=\"background-color: #FFFEFE\">this</span> <span style=\"background-color: #FEFEFF\">job</span> <span style=\"background-color: #FEFEFF\">was</span> <span style=\"background-color: #FEFEFF\">originally</span> <span style=\"background-color: #FEFEFF\">posted</span> <span style=\"background-color: #FFFEFE\">as</span> <span style=\"background-color: #FEFEFF\">www</span> <span style=\"background-color: #FEFEFF\">.</span> <span style=\"background-color: #FEFEFF\">salestarget</span> <span style=\"background-color: #FEFEFF\">.</span> <span style=\"background-color: #FEFEFF\">co</span> <span style=\"background-color: #FEFEFF\">.</span> <span style=\"background-color: #FEFEFF\">uk</span> <span style=\"background-color: #FFFEFE\">/</span> <span style=\"background-color: #FEFEFF\">jobseeking</span> <span style=\"background-color: #FFFEFE\">/</span> <span style=\"background-color: #FFFEFE\">UNK</span> <span style=\"background-color: #FEFEFF\">****</span></p>"
      ]
     },
     "metadata": {},
     "output_type": "display_data"
    }
   ],
   "source": [
    "i = 36605\n",
    "tokens_and_weights = explain(model, data.loc[i], \"Title\")\n",
    "draw_html([(tok, weight * 5) for tok, weight in tokens_and_weights], font_style='font-size:20px;');\n",
    "\n",
    "tokens_and_weights = explain(model, data.loc[i], \"FullDescription\")\n",
    "draw_html([(tok, weight * 10) for tok, weight in tokens_and_weights]);"
   ]
  },
  {
   "cell_type": "code",
   "execution_count": 260,
   "metadata": {},
   "outputs": [
    {
     "data": {
      "text/html": [
       "<p style=\"font-size:20px;\"><span style=\"background-color: #FFD0D0\">cleaning</span> <span style=\"background-color: #3838FF\">operative</span></p>"
      ]
     },
     "metadata": {},
     "output_type": "display_data"
    },
    {
     "data": {
      "text/html": [
       "<p style=\"font-size:14px;\"><span style=\"background-color: #FFFEFE\">12</span> <span style=\"background-color: #FEFEFF\">.</span> <span style=\"background-color: #FFFCFC\">5</span> <span style=\"background-color: #FFFEFE\">hours</span> <span style=\"background-color: #FFFEFE\">per</span> <span style=\"background-color: #FEFEFF\">week</span> <span style=\"background-color: #FFFEFE\">monday</span> <span style=\"background-color: #FEFEFF\">friday</span> <span style=\"background-color: #FEFEFF\">9am</span> <span style=\"background-color: #FFFEFE\">11</span> <span style=\"background-color: #FEFEFF\">.</span> <span style=\"background-color: #FFFEFE\">30am</span> <span style=\"background-color: #FFFEFE\">duties</span> <span style=\"background-color: #FEFEFF\">to</span> <span style=\"background-color: #FFFEFE\">include</span> <span style=\"background-color: #FFFEFE\">sweeping</span> <span style=\"background-color: #FFFEFE\">,</span> <span style=\"background-color: #FEFEFF\">mopping</span> <span style=\"background-color: #FFFEFE\">,</span> <span style=\"background-color: #FFFEFE\">vacuuming</span> <span style=\"background-color: #FFFEFE\">,</span> <span style=\"background-color: #FFFEFE\">buffing</span> <span style=\"background-color: #FFFEFE\">,</span> <span style=\"background-color: #FEFEFF\">cleaning</span> <span style=\"background-color: #FFFEFE\">staff</span> <span style=\"background-color: #FEFEFF\">toilets</span> <span style=\"background-color: #FCFCFF\">and</span> <span style=\"background-color: #FFFEFE\">rest</span> <span style=\"background-color: #FEFEFF\">room</span> <span style=\"background-color: #FEFEFF\">.</span> <span style=\"background-color: #FEFEFF\">must</span> <span style=\"background-color: #FFFEFE\">be</span> <span style=\"background-color: #FFFEFE\">able</span> <span style=\"background-color: #FEFEFF\">to</span> <span style=\"background-color: #FFFEFE\">read</span> <span style=\"background-color: #FFFEFE\">as</span> <span style=\"background-color: #FFFEFE\">they</span> <span style=\"background-color: #FEFEFF\">will</span> <span style=\"background-color: #FFFEFE\">be</span> <span style=\"background-color: #FFFEFE\">using</span> <span style=\"background-color: #FFFEFE\">UNK</span> <span style=\"background-color: #FFFEFE\">which</span> <span style=\"background-color: #FFFEFE\">need</span> <span style=\"background-color: #FFFEFE\">UNK</span> <span style=\"background-color: #FFFEFE\">as</span> <span style=\"background-color: #FFFEFE\">per</span> <span style=\"background-color: #FFFEFE\">instructions</span> <span style=\"background-color: #FEFEFF\">on</span> <span style=\"background-color: #FFFEFE\">the</span> <span style=\"background-color: #FFFEFE\">containers</span> <span style=\"background-color: #FEFEFF\">.</span> <span style=\"background-color: #FFFEFE\">sucessfull</span> <span style=\"background-color: #FFFEFE\">applicants</span> <span style=\"background-color: #FEFEFF\">will</span> <span style=\"background-color: #FFFEFE\">be</span> <span style=\"background-color: #FFFEFE\">trained</span> <span style=\"background-color: #FEFEFF\">on</span> <span style=\"background-color: #FFFEFE\">all</span> <span style=\"background-color: #FEFEFF\">electrical</span> <span style=\"background-color: #FFFEFE\">appliances</span> <span style=\"background-color: #FCFCFF\">and</span> <span style=\"background-color: #FFFEFE\">UNK</span> <span style=\"background-color: #FEFEFF\">of</span> <span style=\"background-color: #FEFEFF\">cleaning</span> <span style=\"background-color: #FFFCFC\">materials</span> <span style=\"background-color: #FEFEFF\">.</span></p>"
      ]
     },
     "metadata": {},
     "output_type": "display_data"
    }
   ],
   "source": [
    "i = 12077\n",
    "tokens_and_weights = explain(model, data.loc[i], \"Title\")\n",
    "draw_html([(tok, weight * 5) for tok, weight in tokens_and_weights], font_style='font-size:20px;');\n",
    "\n",
    "tokens_and_weights = explain(model, data.loc[i], \"FullDescription\")\n",
    "draw_html([(tok, weight * 10) for tok, weight in tokens_and_weights]);"
   ]
  },
  {
   "cell_type": "code",
   "execution_count": 263,
   "metadata": {},
   "outputs": [
    {
     "name": "stdout",
     "output_type": "stream",
     "text": [
      "Index: 241290\n",
      "Salary (gbp): 78646.77\n"
     ]
    },
    {
     "data": {
      "text/html": [
       "<p style=\"font-size:20px;\"><span style=\"background-color: #FFFEFE\">UNK</span> <span style=\"background-color: #FF1C1C\">development</span> <span style=\"background-color: #FFF0F0\">consultant</span></p>"
      ]
     },
     "metadata": {},
     "output_type": "display_data"
    },
    {
     "data": {
      "text/html": [
       "<p style=\"font-size:14px;\"><span style=\"background-color: #FFFEFE\">this</span> <span style=\"background-color: #FEFEFF\">international</span> <span style=\"background-color: #FEFEFF\">business</span> <span style=\"background-color: #FEFEFF\">is</span> <span style=\"background-color: #FEFEFF\">recruiting</span> <span style=\"background-color: #FFFEFE\">an</span> <span style=\"background-color: #FEFEFF\">organisational</span> <span style=\"background-color: #FFFEFE\">development</span> <span style=\"background-color: #FEFEFF\">consultant</span> <span style=\"background-color: #FEFEFF\">to</span> <span style=\"background-color: #FEFEFF\">join</span> <span style=\"background-color: #FEFEFF\">its</span> <span style=\"background-color: #FFFEFE\">inhouse</span> <span style=\"background-color: #FEFEFF\">team</span> <span style=\"background-color: #FEFEFF\">consultancy</span> <span style=\"background-color: #FEFEFF\">to</span> <span style=\"background-color: #FFFEFE\">enable</span> <span style=\"background-color: #FEFEFF\">organisational</span> <span style=\"background-color: #FEFEFF\">growth</span> <span style=\"background-color: #FCFCFF\">and</span> <span style=\"background-color: #FEFEFF\">change</span> <span style=\"background-color: #FEFEFF\">,</span> <span style=\"background-color: #FEFEFF\">performance</span> <span style=\"background-color: #FEFEFF\">enhancement</span> <span style=\"background-color: #FEFEFF\">,</span> <span style=\"background-color: #FEFEFF\">capability</span> <span style=\"background-color: #FCFCFF\">and</span> <span style=\"background-color: #FEFEFF\">effectiveness</span> <span style=\"background-color: #FEFEFF\">.</span> <span style=\"background-color: #FEFEFF\">reporting</span> <span style=\"background-color: #FEFEFF\">to</span> <span style=\"background-color: #FEFEFF\">the</span> <span style=\"background-color: #FEFEFF\">head</span> <span style=\"background-color: #FEFEFF\">of</span> <span style=\"background-color: #FFFEFE\">od</span> <span style=\"background-color: #FEFEFF\">you</span> <span style=\"background-color: #FEFEFF\">will</span> <span style=\"background-color: #FEFEFF\">partner</span> <span style=\"background-color: #FEFEFF\">with</span> <span style=\"background-color: #FEFEFF\">the</span> <span style=\"background-color: #FEFEFF\">business</span> <span style=\"background-color: #FEFEFF\">to</span> <span style=\"background-color: #FEFEFF\">identify</span> <span style=\"background-color: #FEFEFF\">areas</span> <span style=\"background-color: #FEFEFF\">for</span> <span style=\"background-color: #FFFEFE\">improvement</span> <span style=\"background-color: #FEFEFF\">,</span> <span style=\"background-color: #FEFEFF\">growth</span> <span style=\"background-color: #FCFCFF\">and</span> <span style=\"background-color: #FEFEFF\">change</span> <span style=\"background-color: #FCFCFF\">and</span> <span style=\"background-color: #FEFEFF\">will</span> <span style=\"background-color: #FEFEFF\">create</span> <span style=\"background-color: #FEFEFF\">solutions</span> <span style=\"background-color: #FEFEFF\">to</span> <span style=\"background-color: #FEFEFF\">achieve</span> <span style=\"background-color: #FFFEFE\">success</span> <span style=\"background-color: #FEFEFF\">.</span> <span style=\"background-color: #FEFEFF\">you</span> <span style=\"background-color: #FEFEFF\">will</span> <span style=\"background-color: #FEFEFF\">be</span> <span style=\"background-color: #FEFEFF\">tasked</span> <span style=\"background-color: #FEFEFF\">with</span> <span style=\"background-color: #FEFEFF\">developing</span> <span style=\"background-color: #FEFEFF\">the</span> <span style=\"background-color: #FEFEFF\">skills</span> <span style=\"background-color: #FEFEFF\">of</span> <span style=\"background-color: #FEFEFF\">the</span> <span style=\"background-color: #FEFEFF\">talent</span> <span style=\"background-color: #FFFEFE\">within</span> <span style=\"background-color: #FEFEFF\">the</span> <span style=\"background-color: #FEFEFF\">business</span> <span style=\"background-color: #FEFEFF\">,</span> <span style=\"background-color: #FEFEFF\">enhancing</span> <span style=\"background-color: #FEFEFF\">performance</span> <span style=\"background-color: #FEFEFF\">,</span> <span style=\"background-color: #FFFEFE\">reducing</span> <span style=\"background-color: #FEFEFF\">costs</span> <span style=\"background-color: #FCFCFF\">and</span> <span style=\"background-color: #FEFEFF\">increasing</span> <span style=\"background-color: #FEFEFF\">reliability</span> <span style=\"background-color: #FEFEFF\">.</span> <span style=\"background-color: #FFFEFE\">this</span> <span style=\"background-color: #FEFEFF\">will</span> <span style=\"background-color: #FFFEFE\">include</span> <span style=\"background-color: #FEFEFF\">;</span> <span style=\"background-color: #FFFEFE\">design</span> <span style=\"background-color: #FCFCFF\">and</span> <span style=\"background-color: #FFFEFE\">facilitation</span> <span style=\"background-color: #FEFEFF\">of</span> <span style=\"background-color: #FEFEFF\">change</span> <span style=\"background-color: #FEFEFF\">management</span> <span style=\"background-color: #FEFEFF\">agendas</span> <span style=\"background-color: #FEFEFF\">,</span> <span style=\"background-color: #FEFEFF\">learning</span> <span style=\"background-color: #FCFCFF\">and</span> <span style=\"background-color: #FFFEFE\">development</span> <span style=\"background-color: #FCFCFF\">and</span> <span style=\"background-color: #FEFEFF\">performance</span> <span style=\"background-color: #FEFEFF\">management</span> <span style=\"background-color: #FEFEFF\">.</span> <span style=\"background-color: #FEFEFF\">the</span> <span style=\"background-color: #FEFEFF\">role</span> <span style=\"background-color: #FEFEFF\">will</span> <span style=\"background-color: #FEFEFF\">require</span> <span style=\"background-color: #FFFEFE\">an</span> <span style=\"background-color: #FEFEFF\">individual</span> <span style=\"background-color: #FEFEFF\">with</span> <span style=\"background-color: #FEFEFF\">extensive</span> <span style=\"background-color: #FFFEFE\">od</span> <span style=\"background-color: #FEFEFF\">experience</span> <span style=\"background-color: #FEFEFF\">from</span> <span style=\"background-color: #FFFEFE\">an</span> <span style=\"background-color: #FFFEFE\">inhouse</span> <span style=\"background-color: #FFFEFE\">UNK</span> <span style=\"background-color: #FEFEFF\">team</span> <span style=\"background-color: #FEFEFF\">.</span> <span style=\"background-color: #FEFEFF\">you</span> <span style=\"background-color: #FEFEFF\">will</span> <span style=\"background-color: #FEFEFF\">have</span> <span style=\"background-color: #FEFEFF\">solid</span> <span style=\"background-color: #FEFEFF\">process</span> <span style=\"background-color: #FEFEFF\">,</span> <span style=\"background-color: #FFFEFE\">design</span> <span style=\"background-color: #FCFCFF\">and</span> <span style=\"background-color: #FFFEFE\">facilitation</span> <span style=\"background-color: #FEFEFF\">experience</span> <span style=\"background-color: #FEFEFF\">along</span> <span style=\"background-color: #FEFEFF\">with</span> <span style=\"background-color: #FEFEFF\">a</span> <span style=\"background-color: #FEFEFF\">psychology</span> <span style=\"background-color: #FEFEFF\">qualification</span> <span style=\"background-color: #FCFCFF\">and</span> <span style=\"background-color: #FFFEFE\">UNK</span> <span style=\"background-color: #FEFEFF\">experience</span> <span style=\"background-color: #FEFEFF\">of</span> <span style=\"background-color: #FEFEFF\">using</span> <span style=\"background-color: #FEFEFF\">family</span> <span style=\"background-color: #FEFEFF\">therapies</span> <span style=\"background-color: #FEFEFF\">,</span> <span style=\"background-color: #FEFEFF\">process</span> <span style=\"background-color: #FFFEFE\">consultation</span> <span style=\"background-color: #FCFCFF\">and</span> <span style=\"background-color: #FEFEFF\">group</span> <span style=\"background-color: #FFFEFE\">UNK</span> <span style=\"background-color: #FEFEFF\">.</span> <span style=\"background-color: #FEFEFF\">you</span> <span style=\"background-color: #FEFEFF\">will</span> <span style=\"background-color: #FEFEFF\">be</span> <span style=\"background-color: #FEFEFF\">able</span> <span style=\"background-color: #FEFEFF\">to</span> <span style=\"background-color: #FEFEFF\">get</span> <span style=\"background-color: #FFFEFE\">under</span> <span style=\"background-color: #FEFEFF\">the</span> <span style=\"background-color: #FEFEFF\">skin</span> <span style=\"background-color: #FEFEFF\">of</span> <span style=\"background-color: #FEFEFF\">the</span> <span style=\"background-color: #FEFEFF\">organisation</span> <span style=\"background-color: #FCFCFF\">and</span> <span style=\"background-color: #FEFEFF\">make</span> <span style=\"background-color: #FFFEFE\">an</span> <span style=\"background-color: #FEFEFF\">impact</span> <span style=\"background-color: #FEFEFF\">with</span> <span style=\"background-color: #FEFEFF\">senior</span> <span style=\"background-color: #FEFEFF\">stakeholders</span> <span style=\"background-color: #FEFEFF\">quickly</span> <span style=\"background-color: #FCFCFF\">and</span> <span style=\"background-color: #FEFEFF\">with</span> <span style=\"background-color: #FEFEFF\">ease</span> <span style=\"background-color: #FEFEFF\">.</span> <span style=\"background-color: #FFFEFE\">this</span> <span style=\"background-color: #FEFEFF\">job</span> <span style=\"background-color: #FEFEFF\">was</span> <span style=\"background-color: #FEFEFF\">originally</span> <span style=\"background-color: #FEFEFF\">posted</span> <span style=\"background-color: #FFFEFE\">as</span> <span style=\"background-color: #FEFEFF\">www</span> <span style=\"background-color: #FEFEFF\">.</span> <span style=\"background-color: #FEFEFF\">totaljobs</span> <span style=\"background-color: #FEFEFF\">.</span> <span style=\"background-color: #FEFEFF\">com</span> <span style=\"background-color: #FFFEFE\">/</span> <span style=\"background-color: #FEFEFF\">jobseeking</span> <span style=\"background-color: #FFFEFE\">/</span> <span style=\"background-color: #FFFEFE\">UNK</span> <span style=\"background-color: #FEFEFF\">****</span></p>"
      ]
     },
     "metadata": {},
     "output_type": "display_data"
    }
   ],
   "source": [
    "i = np.random.randint(len(data))\n",
    "print(\"Index:\", i)\n",
    "print(\"Salary (gbp):\", np.expm1(model.predict(make_batch(data.iloc[i: i+1])).detach().numpy()[0]))\n",
    "\n",
    "tokens_and_weights = explain(model, data.loc[i], \"Title\")\n",
    "draw_html([(tok, weight * 5) for tok, weight in tokens_and_weights], font_style='font-size:20px;');\n",
    "\n",
    "tokens_and_weights = explain(model, data.loc[i], \"FullDescription\")\n",
    "draw_html([(tok, weight * 10) for tok, weight in tokens_and_weights]);"
   ]
  },
  {
   "cell_type": "markdown",
   "metadata": {},
   "source": [
    "__Terrible start-up idea #1962:__ make a tool that automaticaly rephrases your job description (or CV) to meet salary expectations :)"
   ]
  }
 ],
 "metadata": {
  "kernelspec": {
   "display_name": "Python 3 (ipykernel)",
   "language": "python",
   "name": "python3"
  },
  "language_info": {
   "codemirror_mode": {
    "name": "ipython",
    "version": 3
   },
   "file_extension": ".py",
   "mimetype": "text/x-python",
   "name": "python",
   "nbconvert_exporter": "python",
   "pygments_lexer": "ipython3",
   "version": "3.9.13"
  }
 },
 "nbformat": 4,
 "nbformat_minor": 2
}
